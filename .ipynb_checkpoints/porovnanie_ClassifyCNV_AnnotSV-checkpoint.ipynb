{
 "cells": [
  {
   "cell_type": "code",
   "execution_count": 7,
   "metadata": {},
   "outputs": [],
   "source": [
    "import pandas as pd\n",
    "import numpy as np\n",
    "import matplotlib.pyplot as plt\n",
    "import seaborn as sns\n",
    "from scipy import stats\n",
    "from collections import Counter\n",
    "import  math\n",
    "\n",
    "from sklearn.feature_selection import RFE\n",
    "from xgboost import XGBClassifier\n",
    "from sklearn.metrics import accuracy_score\n",
    "from sklearn import metrics\n",
    "from matplotlib import rcParams\n",
    "from matplotlib import pyplot\n",
    "from xgboost import plot_importance\n",
    "from numpy import sort\n",
    "from numpy import loadtxt\n",
    "from sklearn.feature_selection import SelectFromModel\n",
    "from sklearn.feature_selection import RFE\n",
    "%matplotlib inline\n",
    "from sklearn.model_selection import GridSearchCV\n",
    "import pickle"
   ]
  },
  {
   "cell_type": "code",
   "execution_count": 34,
   "metadata": {},
   "outputs": [],
   "source": [
    "# evaluate AnnotSV"
   ]
  },
  {
   "cell_type": "code",
   "execution_count": 8,
   "metadata": {},
   "outputs": [],
   "source": [
    "cnv_types = ['loss', 'gain']\n",
    "cnv_type = cnv_types[1]\n",
    "\n",
    "x_test_f = './data_annotsv/train_val_test_sets/train_val_test/x_test_' + cnv_type + '.tsv'\n",
    "y_test_f = './data_annotsv/train_val_test_sets/train_val_test/y_test_'+ cnv_type + '.tsv'\n",
    "\n",
    "x_test = pd.read_csv(x_test_f, sep='\\t')\n",
    "y_test = pd.read_csv(y_test_f, sep='\\t')\n"
   ]
  },
  {
   "cell_type": "code",
   "execution_count": 9,
   "metadata": {},
   "outputs": [],
   "source": [
    "def get_category(row):\n",
    "    if row.clinsig_bin == 0:\n",
    "        if row['AnnotSV ranking'] == 1 or row['AnnotSV ranking'] == 2:\n",
    "            category = 'TN'\n",
    "        elif row['AnnotSV ranking'] == 4 or row['AnnotSV ranking'] == 5:\n",
    "            category = 'FP'\n",
    "        else:\n",
    "            category = 'uncertain'\n",
    "    else:\n",
    "        if row['AnnotSV ranking'] == 1 or row['AnnotSV ranking'] == 2:\n",
    "            category = 'FN'\n",
    "        elif row['AnnotSV ranking'] == 4 or row['AnnotSV ranking'] == 5:\n",
    "            category = 'TP'\n",
    "        else:\n",
    "            category = 'uncertain'\n",
    "    return category"
   ]
  },
  {
   "cell_type": "code",
   "execution_count": 10,
   "metadata": {},
   "outputs": [
    {
     "name": "stderr",
     "output_type": "stream",
     "text": [
      "/home/gaziova/miniconda3/envs/notebookProjects/lib/python3.7/site-packages/ipykernel_launcher.py:12: SettingWithCopyWarning: \n",
      "A value is trying to be set on a copy of a slice from a DataFrame.\n",
      "Try using .loc[row_indexer,col_indexer] = value instead\n",
      "\n",
      "See the caveats in the documentation: https://pandas.pydata.org/pandas-docs/stable/user_guide/indexing.html#returning-a-view-versus-a-copy\n",
      "  if sys.path[0] == '':\n"
     ]
    },
    {
     "name": "stdout",
     "output_type": "stream",
     "text": [
      "959 1 890 676\n",
      "Accuracy: loss 0.731987331749802\n",
      "755 3 425 625\n",
      "Accuracy: gain 0.6526548672566371\n"
     ]
    },
    {
     "data": {
      "text/html": [
       "<div>\n",
       "<style scoped>\n",
       "    .dataframe tbody tr th:only-of-type {\n",
       "        vertical-align: middle;\n",
       "    }\n",
       "\n",
       "    .dataframe tbody tr th {\n",
       "        vertical-align: top;\n",
       "    }\n",
       "\n",
       "    .dataframe thead th {\n",
       "        text-align: right;\n",
       "    }\n",
       "</style>\n",
       "<table border=\"1\" class=\"dataframe\">\n",
       "  <thead>\n",
       "    <tr style=\"text-align: right;\">\n",
       "      <th></th>\n",
       "      <th>cnv_type</th>\n",
       "      <th>Accuracy</th>\n",
       "      <th>FP</th>\n",
       "      <th>TN</th>\n",
       "      <th>TP</th>\n",
       "      <th>FN</th>\n",
       "      <th>uncertain</th>\n",
       "    </tr>\n",
       "  </thead>\n",
       "  <tbody>\n",
       "    <tr>\n",
       "      <th>0</th>\n",
       "      <td>loss</td>\n",
       "      <td>0.731987</td>\n",
       "      <td>676</td>\n",
       "      <td>959</td>\n",
       "      <td>890</td>\n",
       "      <td>1</td>\n",
       "      <td>NaN</td>\n",
       "    </tr>\n",
       "    <tr>\n",
       "      <th>0</th>\n",
       "      <td>gain</td>\n",
       "      <td>0.652655</td>\n",
       "      <td>625</td>\n",
       "      <td>755</td>\n",
       "      <td>425</td>\n",
       "      <td>3</td>\n",
       "      <td>NaN</td>\n",
       "    </tr>\n",
       "  </tbody>\n",
       "</table>\n",
       "</div>"
      ],
      "text/plain": [
       "  cnv_type  Accuracy   FP   TN   TP FN uncertain\n",
       "0     loss  0.731987  676  959  890  1       NaN\n",
       "0     gain  0.652655  625  755  425  3       NaN"
      ]
     },
     "execution_count": 10,
     "metadata": {},
     "output_type": "execute_result"
    }
   ],
   "source": [
    "cnv_types = ['loss', 'gain']\n",
    "all_acc = pd.DataFrame(columns=['cnv_type', 'Accuracy', 'FP','TN','TP','FN', 'uncertain'])\n",
    "\n",
    "for cnv_type in cnv_types:\n",
    "    x_test_f = './data_annotsv/train_val_test_sets/train_val_test/x_test_' + cnv_type + '.tsv'\n",
    "    y_test_f = './data_annotsv/train_val_test_sets/train_val_test/y_test_'+ cnv_type + '.tsv'\n",
    "\n",
    "    x_test = pd.read_csv(x_test_f, sep='\\t')\n",
    "    y_test = pd.read_csv(y_test_f, sep='\\t')\n",
    "    \n",
    "    df = x_test[['AnnotSV ranking', 'clinsig_bin']]\n",
    "    df['Category_AnnotSV'] = df.apply(get_category, axis=1)\n",
    "    \n",
    "    x = pd.DataFrame([[cnv_type]], columns=['cnv_type'])\n",
    "\n",
    "    TrueFalse_category = pd.DataFrame.from_dict(Counter(df.Category_AnnotSV), orient='index').transpose()\n",
    "    TN = TrueFalse_category.iloc[0] ['TN']\n",
    "    FN = TrueFalse_category.iloc[0] ['FN']\n",
    "    TP = TrueFalse_category.iloc[0] ['TP']\n",
    "    FP = TrueFalse_category.iloc[0] ['FP']\n",
    "#     uncl = TrueFalse_category.iloc[0] ['uncertain'] # netreba, nieje ziadne uncertain v testovacom sete\n",
    "    print(TN, FN, TP, FP)\n",
    "    print('Accuracy:',cnv_type, (TP + TN)/(TP + TN + FP + FN))\n",
    "    accuracy = ((TP + TN)/(TP + TN + FP + FN))\n",
    "\n",
    "    c = pd.DataFrame([[accuracy]], columns=['Accuracy'])\n",
    "    x = pd.concat([x, c, TrueFalse_category], axis=1, ignore_index=False)\n",
    "    all_acc = all_acc.append(x)\n",
    "all_acc"
   ]
  },
  {
   "cell_type": "code",
   "execution_count": 35,
   "metadata": {},
   "outputs": [],
   "source": [
    "# evaluate ClassifyCNV"
   ]
  },
  {
   "cell_type": "code",
   "execution_count": 92,
   "metadata": {},
   "outputs": [],
   "source": [
    "def get_category_ClassifyCNV(row):\n",
    "    if row.clinsig_bin == 0:\n",
    "        if row.Classification == 'Benign' or row.Classification == 'Likely benign':\n",
    "            category = 'TN'\n",
    "        elif row.Classification == 'Likely pathogenic' or row.Classification == 'Pathogenic':\n",
    "            category = 'FP'\n",
    "        else:\n",
    "            category = 'uncertain'\n",
    "    else:\n",
    "        if row.Classification == 'Benign' or row.Classification == 'Likely benign':\n",
    "            category = 'FN'\n",
    "        elif row.Classification == 'Likely pathogenic' or row.Classification == 'Pathogenic':\n",
    "            category = 'TP'\n",
    "        else:\n",
    "            category = 'uncertain'\n",
    "    return category\n"
   ]
  },
  {
   "cell_type": "code",
   "execution_count": 95,
   "metadata": {},
   "outputs": [
    {
     "name": "stdout",
     "output_type": "stream",
     "text": [
      "229 1 547 9\n",
      "Accuracy: loss 0.9872773536895675\n",
      "196 0 285 3\n",
      "Accuracy: gain 0.993801652892562\n"
     ]
    },
    {
     "data": {
      "text/html": [
       "<div>\n",
       "<style scoped>\n",
       "    .dataframe tbody tr th:only-of-type {\n",
       "        vertical-align: middle;\n",
       "    }\n",
       "\n",
       "    .dataframe tbody tr th {\n",
       "        vertical-align: top;\n",
       "    }\n",
       "\n",
       "    .dataframe thead th {\n",
       "        text-align: right;\n",
       "    }\n",
       "</style>\n",
       "<table border=\"1\" class=\"dataframe\">\n",
       "  <thead>\n",
       "    <tr style=\"text-align: right;\">\n",
       "      <th></th>\n",
       "      <th>cnv_type</th>\n",
       "      <th>Accuracy</th>\n",
       "      <th>FP</th>\n",
       "      <th>TN</th>\n",
       "      <th>TP</th>\n",
       "      <th>FN</th>\n",
       "      <th>uncertain</th>\n",
       "    </tr>\n",
       "  </thead>\n",
       "  <tbody>\n",
       "    <tr>\n",
       "      <th>0</th>\n",
       "      <td>loss</td>\n",
       "      <td>0.987277</td>\n",
       "      <td>9</td>\n",
       "      <td>229</td>\n",
       "      <td>547</td>\n",
       "      <td>1</td>\n",
       "      <td>1740</td>\n",
       "    </tr>\n",
       "    <tr>\n",
       "      <th>0</th>\n",
       "      <td>gain</td>\n",
       "      <td>0.993802</td>\n",
       "      <td>3</td>\n",
       "      <td>196</td>\n",
       "      <td>285</td>\n",
       "      <td>NaN</td>\n",
       "      <td>1324</td>\n",
       "    </tr>\n",
       "  </tbody>\n",
       "</table>\n",
       "</div>"
      ],
      "text/plain": [
       "  cnv_type  Accuracy FP   TN   TP   FN uncertain\n",
       "0     loss  0.987277  9  229  547    1      1740\n",
       "0     gain  0.993802  3  196  285  NaN      1324"
      ]
     },
     "execution_count": 95,
     "metadata": {},
     "output_type": "execute_result"
    }
   ],
   "source": [
    "cnv_types = ['loss', 'gain']\n",
    "all_acc = pd.DataFrame(columns=['cnv_type', 'Accuracy', 'FP','TN','TP','FN', 'uncertain'])\n",
    "\n",
    "for cnv_type in cnv_types:\n",
    "    result_fn = '../classifyCNV_test/cnv_clinvar/ClassifyCNV/ClassifyCNV_results/classifyCNV_results_cnv_isv_annotsv_testdata/test_'+ cnv_type +'_isv_annotsv/Scoresheet.txt'\n",
    "    df_result = pd.read_csv(result_fn, sep='\\t', low_memory=False)\n",
    "    df_result = df_result[['Chromosome', 'Start', 'End', 'Classification','Total score']]\n",
    "    df_result.columns = ['Chromosome', 'SV_start', 'SV_end', 'Classification','Total_score']\n",
    "    df_result['chrom'] = df_result['Chromosome'].str.replace('chr', '')\n",
    "    \n",
    "    x_test_f = './data_annotsv/train_val_test_sets/train_val_test/x_test_' + cnv_type + '.tsv'\n",
    "    x_test = pd.read_csv(x_test_f, sep='\\t')\n",
    "    test_set = x_test[['chrom', 'SV_start', 'SV_end', 'clinsig_bin', 'rcvAcc']]\n",
    "    test_set_merged = test_set.merge(df_result, how='inner', on=['chrom', 'SV_start', 'SV_end'])\n",
    "    test_set_merged['Category_ClassifyCNV'] = test_set_merged.apply(get_category_ClassifyCNV, axis=1)\n",
    "    \n",
    "    x = pd.DataFrame([[cnv_type]], columns=['cnv_type'])\n",
    "\n",
    "    TrueFalse_category = pd.DataFrame.from_dict(Counter(test_set_merged.Category_ClassifyCNV), orient='index').transpose()\n",
    "    TN = TrueFalse_category.iloc[0] ['TN']\n",
    "    if 'FN' in list(TrueFalse_category.columns):\n",
    "        FN = TrueFalse_category.iloc[0] ['FN']\n",
    "    else:\n",
    "        FN = 0\n",
    "    TP = TrueFalse_category.iloc[0] ['TP']\n",
    "    if 'FP' in list(TrueFalse_category.columns):\n",
    "        FP = TrueFalse_category.iloc[0] ['FP']\n",
    "    else:\n",
    "        FP = 0\n",
    "    uncl = TrueFalse_category.iloc[0] ['uncertain']\n",
    "    print(TN, FN, TP, FP)\n",
    "    print('Accuracy:',cnv_type, (TP + TN)/(TP + TN + FP + FN))\n",
    "    accuracy = ((TP + TN)/(TP + TN + FP + FN))\n",
    "\n",
    "    c = pd.DataFrame([[accuracy]], columns=['Accuracy'])\n",
    "    x = pd.concat([x, c, TrueFalse_category], axis=1, ignore_index=False)\n",
    "    all_acc = all_acc.append(x)\n",
    "all_acc"
   ]
  },
  {
   "cell_type": "code",
   "execution_count": 5,
   "metadata": {},
   "outputs": [
    {
     "data": {
      "text/plain": [
       "73.23008849557522"
      ]
     },
     "execution_count": 5,
     "metadata": {},
     "output_type": "execute_result"
    }
   ],
   "source": [
    "132400/1808"
   ]
  }
 ],
 "metadata": {
  "kernelspec": {
   "display_name": "Python 3",
   "language": "python",
   "name": "python3"
  },
  "language_info": {
   "codemirror_mode": {
    "name": "ipython",
    "version": 3
   },
   "file_extension": ".py",
   "mimetype": "text/x-python",
   "name": "python",
   "nbconvert_exporter": "python",
   "pygments_lexer": "ipython3",
   "version": "3.7.8"
  }
 },
 "nbformat": 4,
 "nbformat_minor": 4
}
