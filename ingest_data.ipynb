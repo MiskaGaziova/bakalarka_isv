{
 "cells": [
  {
   "cell_type": "code",
   "execution_count": 4,
   "metadata": {},
   "outputs": [],
   "source": [
    "import sklearn\n",
    "import pandas as pd\n",
    "import pickle\n",
    "import numpy as np\n",
    "import pandas_profiling as pp\n",
    "from sklearn.model_selection import train_test_split\n",
    "from sklearn.linear_model import LogisticRegression\n",
    "from sklearn.preprocessing import MinMaxScaler\n",
    "from sklearn.pipeline import Pipeline\n",
    "import pickle\n",
    "from collections import Counter"
   ]
  },
  {
   "cell_type": "code",
   "execution_count": 2,
   "metadata": {},
   "outputs": [],
   "source": [
    "hg38_annotsv = pd.read_csv('/home/gaziova/CNWeb/AnnotSV.r2yo0QbkMl.tsv', sep='\\t', low_memory=False)\n",
    "df = hg38_annotsv.rename({'AnnotSV ID' : 'AnnotSV_ID', 'SV chrom': 'chrom', 'SV start': 'SV_start', 'SV end': 'SV_end', 'RCV': 'rcvAcc' ,\n",
    "                          'AnnotSV type': 'AnnotSV_type', 'SV length': 'SV_length', 'SV type': 'SV_type', 'Gene name': 'gene_name'}, axis='columns')\n",
    "hg38_annotsv.columns\n",
    "annotsv_split = df[df.AnnotSV_type == 'split']\n",
    "annotsv_full = df[df.AnnotSV_type == 'full']"
   ]
  },
  {
   "cell_type": "code",
   "execution_count": 31,
   "metadata": {},
   "outputs": [],
   "source": [
    "hg38_annotsv = hg38_annotsv.rename({'AnnotSV ID' : 'AnnotSV_ID', 'SV chrom': 'chrom', 'SV start': 'SV_start', 'SV end': 'SV_end', 'RCV': 'rcvAcc' ,\n",
    "                          'AnnotSV type': 'AnnotSV_type', 'SV length': 'SV_length', 'SV type': 'SV_type', 'Gene name': 'gene_name'}, axis='columns')\n"
   ]
  },
  {
   "cell_type": "code",
   "execution_count": 5,
   "metadata": {},
   "outputs": [],
   "source": [
    "slovak_CNV = pd.read_csv('/home/gaziova/CNWeb/hg38_publikacia/slovakCNV_AnnotSV.JX2aiSUVe4.tsv', sep='\\t')\n",
    "df = slovak_CNV.rename({'AnnotSV ID' : 'AnnotSV_ID', 'SV chrom': 'chrom', 'SV start': 'SV_start', 'SV end': 'SV_end', 'RCV': 'rcvAcc' ,\n",
    "                          'AnnotSV type': 'AnnotSV_type', 'SV length': 'SV_length', 'SV type': 'SV_type', 'Gene name': 'gene_name'}, axis='columns')\n",
    "\n",
    "annotsv_split = df[df.AnnotSV_type == 'split']\n",
    "annotsv_full = df[df.AnnotSV_type == 'full']"
   ]
  },
  {
   "cell_type": "code",
   "execution_count": 4,
   "metadata": {},
   "outputs": [],
   "source": [
    "duplikacie = annotsv_full[annotsv_full.SV_type == \"DUP\"]\n",
    "delelcie = annotsv_full[annotsv_full.SV_type == 'DEL']"
   ]
  },
  {
   "cell_type": "code",
   "execution_count": 3,
   "metadata": {},
   "outputs": [],
   "source": [
    "annotsv_full = pd.read_csv('/home/gaziova/CNWeb/hg38_annotated_withDfreq.tsv', sep='\\t', low_memory=False)\n"
   ]
  },
  {
   "cell_type": "code",
   "execution_count": null,
   "metadata": {},
   "outputs": [],
   "source": [
    "#Treba nam tieto:\n",
    "['CGscore_indel_gene_count_2', 'ExAC_zScore_pLI', 'ExAC_zScore_indel', 'min_D_Frequency', 'gene_count', 'HI_DDDperc_haploinsufficient_gene_count']"
   ]
  },
  {
   "cell_type": "code",
   "execution_count": 14,
   "metadata": {
    "scrolled": true
   },
   "outputs": [
    {
     "data": {
      "text/plain": [
       "Index(['AnnotSV_ID', 'chrom', 'SV_start', 'SV_end', 'SV_length', 'SV_type',\n",
       "       'Unnamed: 0', 'Unnamed: 0.1', 'rcvAcc', 'chr_grch37', 'clinsig',\n",
       "       'cytoloc', 'data_source', 'disease', 'disease_finding', 'id',\n",
       "       'link_dbs', 'link_ids', 'observations', 'pubmed', 'start_grch37',\n",
       "       'stop_grch37', 'title', 'chr_ncbi36', 'start_ncbi36', 'stop_ncbi36',\n",
       "       'liftOver', 'length', 'AnnotSV_type', 'gene_name', 'NM', 'CDS length',\n",
       "       'tx length', 'location', 'location2', 'intersectStart', 'intersectEnd',\n",
       "       'DGV_GAIN_IDs', 'DGV_GAIN_n_samples_with_SV',\n",
       "       'DGV_GAIN_n_samples_tested', 'DGV_GAIN_Frequency', 'DGV_LOSS_IDs',\n",
       "       'DGV_LOSS_n_samples_with_SV', 'DGV_LOSS_n_samples_tested',\n",
       "       'DGV_LOSS_Frequency', 'GD_ID', 'GD_AN', 'GD_N_HET', 'GD_N_HOMALT',\n",
       "       'GD_AF', 'GD_POPMAX_AF', 'GD_ID_others', '1000g_event', '1000g_AF',\n",
       "       '1000g_max_AF', 'IMH_ID', 'IMH_AF', 'IMH_ID_others', 'promoters',\n",
       "       'dbVar_event', 'dbVar_variant', 'dbVar_status', 'GHid_elite',\n",
       "       'GHid_not_elite', 'GHtype', 'GHgene_elite', 'GHgene_not_elite',\n",
       "       'GHtissue', 'TADcoordinates', 'ENCODEexperiments', 'GCcontent_left',\n",
       "       'GCcontent_right', 'Repeats_coord_left', 'Repeats_type_left',\n",
       "       'Repeats_coord_right', 'Repeats_type_right', 'ACMG', 'DDD_status',\n",
       "       'DDD_mode', 'DDD_consequence', 'DDD_disease', 'DDD_pmids',\n",
       "       'HI_DDDpercent', 'synZ_ExAC', 'misZ_ExAC', 'pLI_ExAC', 'delZ_ExAC',\n",
       "       'dupZ_ExAC', 'cnvZ_ExAC', 'Mim Number', 'morbidGenesCandidates',\n",
       "       'Phenotypes', 'Inheritance', 'morbidGenes', 'HI_CGscore',\n",
       "       'TriS_CGscore', 'AnnotSV ranking'],\n",
       "      dtype='object')"
      ]
     },
     "execution_count": 14,
     "metadata": {},
     "output_type": "execute_result"
    }
   ],
   "source": [
    " annotsv_split.columns"
   ]
  },
  {
   "cell_type": "code",
   "execution_count": 4,
   "metadata": {},
   "outputs": [],
   "source": [
    "def gene_count(gene_names):\n",
    "    if pd.isnull(gene_names):\n",
    "        return 0\n",
    "    return gene_names.count('/') +1\n",
    "\n",
    "# def promoters_count(gene_names):\n",
    "#     if pd.isnull(gene_names):\n",
    "#         return 0\n",
    "#     return gene_names.count('/') + 1\n",
    "\n",
    "def y_clinSign(clinsig):  #clinSign_name):\n",
    "    if clinsig == 'Pathogenic':  #clinSign_name == 'Pathogenic':\n",
    "        return 1\n",
    "    else:\n",
    "        return 0"
   ]
  },
  {
   "cell_type": "code",
   "execution_count": 5,
   "metadata": {},
   "outputs": [
    {
     "name": "stderr",
     "output_type": "stream",
     "text": [
      "/home/gaziova/miniconda3/envs/gaziova_jupyter/lib/python3.7/site-packages/ipykernel_launcher.py:1: SettingWithCopyWarning: \n",
      "A value is trying to be set on a copy of a slice from a DataFrame.\n",
      "Try using .loc[row_indexer,col_indexer] = value instead\n",
      "\n",
      "See the caveats in the documentation: http://pandas.pydata.org/pandas-docs/stable/indexing.html#indexing-view-versus-copy\n",
      "  \"\"\"Entry point for launching an IPython kernel.\n",
      "/home/gaziova/miniconda3/envs/gaziova_jupyter/lib/python3.7/site-packages/ipykernel_launcher.py:3: SettingWithCopyWarning: \n",
      "A value is trying to be set on a copy of a slice from a DataFrame.\n",
      "Try using .loc[row_indexer,col_indexer] = value instead\n",
      "\n",
      "See the caveats in the documentation: http://pandas.pydata.org/pandas-docs/stable/indexing.html#indexing-view-versus-copy\n",
      "  This is separate from the ipykernel package so we can avoid doing imports until\n"
     ]
    }
   ],
   "source": [
    "annotsv_full['gene_count'] = annotsv_full.gene_name.apply(gene_count)\n",
    "# annotsv_full['promoters_count'] = annotsv_full.promoters.apply(promoters_count)\n",
    "annotsv_full['clinSign_bin'] = annotsv_full.clinsig.apply(y_clinSign)"
   ]
  },
  {
   "cell_type": "code",
   "execution_count": 4,
   "metadata": {},
   "outputs": [],
   "source": [
    "def morbidGenes_count(annotsv_full, morbid_cnv):\n",
    "    dict_morbidGenes = {}\n",
    "    for _, row in morbid_cnv.iterrows():\n",
    "        id_cnv = row.rcvAcc\n",
    "        if id_cnv not in dict_morbidGenes:\n",
    "            count = 1\n",
    "        else:\n",
    "            count = dict_morbidGenes[id_cnv] + 1\n",
    "        dict_morbidGenes[id_cnv] = count\n",
    "\n",
    "    annotsv_full['morbidGene_count'] = annotsv_full.rcvAcc.apply(lambda rcvAcc: dict_morbidGenes.get(rcvAcc, 0))\n",
    "    return annotsv_full\n"
   ]
  },
  {
   "cell_type": "code",
   "execution_count": 5,
   "metadata": {},
   "outputs": [],
   "source": [
    "morbid_cnv = annotsv_split[annotsv_split.morbidGenes == 'yes'] #  || annotsv_split.morbidGenesCandidates == 'yes']\n",
    "\n",
    "annotsv_full = morbidGenes_count(annotsv_full, morbid_cnv)"
   ]
  },
  {
   "cell_type": "code",
   "execution_count": null,
   "metadata": {},
   "outputs": [],
   "source": [
    "#nemozeme teraz pouzit DDD_frequenciu lebo vo vysledku z annotsv nie je\n",
    "def D_gene_freq(row):\n",
    "    D_freq = -1\n",
    "    if row.SV_type == 'DUP':\n",
    "        if row.DGV_GAIN_n_samples_with_SV <= 0 or row.DGV_GAIN_n_samples_tested <= 0:\n",
    "            if row.DDD_DUP_Frequency > 0:\n",
    "                D_freq = row.DDD_DUP_Frequency\n",
    "        elif row.DDD_DUP_Frequency <= 0 or row.DDD_DUP_n_samples_with_SV <= 0:\n",
    "            if row.DGV_GAIN_Frequency > 0:\n",
    "                D_freq = row.DGV_GAIN_Frequency\n",
    "        else:\n",
    "            D_freq = (row.DGV_GAIN_n_samples_with_SV + row.DDD_DUP_n_samples_with_SV) / (\n",
    "                        row.DGV_GAIN_n_samples_tested + (row.DDD_DUP_Frequency * row.DDD_DUP_n_samples_with_SV))\n",
    "\n",
    "    else:\n",
    "        if row.DGV_LOSS_n_samples_with_SV <= 0 or row.DGV_GAIN_n_samples_tested <= 0:\n",
    "            if row.DDD_DEL_Frequency > 0:\n",
    "                D_freq = row.DDD_DEL_Frequency\n",
    "        elif row.DDD_DEL_Frequency <= 0 or row.DDD_DEL_n_samples_with_SV <= 0:\n",
    "            if row.DGV_LOSS_Frequency > 0:\n",
    "                D_freq = row.DGV_LOSS_Frequency\n",
    "        else:\n",
    "            D_freq = (row.DGV_LOSS_n_samples_with_SV + row.DDD_DEL_n_samples_with_SV) / (\n",
    "                        row.DGV_LOSS_n_samples_tested + (row.DDD_DEL_Frequency * row.DDD_DEL_n_samples_with_SV))\n",
    "    return D_freq\n"
   ]
  },
  {
   "cell_type": "code",
   "execution_count": 18,
   "metadata": {},
   "outputs": [],
   "source": [
    "#nemozeme teraz pouzit DDD_frequenciu lebo vo vysledku z annotsv nie je\n",
    "#preto vyberieme len frekvenciu z DGV\n",
    "def D_gene_freq(row):\n",
    "    D_freq = -1\n",
    "    if row.SV_type == 'DUP':\n",
    "        if row.DGV_GAIN_Frequency > 0:\n",
    "            D_freq = row.DGV_GAIN_Frequency\n",
    "        \n",
    "    else:\n",
    "        if row.DGV_LOSS_Frequency > 0:\n",
    "            D_freq = row.DGV_LOSS_Frequency\n",
    "    \n",
    "    return D_freq"
   ]
  },
  {
   "cell_type": "code",
   "execution_count": 19,
   "metadata": {},
   "outputs": [
    {
     "name": "stderr",
     "output_type": "stream",
     "text": [
      "/home/gaziova/miniconda3/envs/gaziova_jupyter/lib/python3.7/site-packages/ipykernel_launcher.py:1: SettingWithCopyWarning: \n",
      "A value is trying to be set on a copy of a slice from a DataFrame.\n",
      "Try using .loc[row_indexer,col_indexer] = value instead\n",
      "\n",
      "See the caveats in the documentation: http://pandas.pydata.org/pandas-docs/stable/indexing.html#indexing-view-versus-copy\n",
      "  \"\"\"Entry point for launching an IPython kernel.\n"
     ]
    }
   ],
   "source": [
    "annotsv_split['min_D_Frequency'] = annotsv_split.apply(D_gene_freq, axis=1)"
   ]
  },
  {
   "cell_type": "code",
   "execution_count": 37,
   "metadata": {},
   "outputs": [
    {
     "name": "stderr",
     "output_type": "stream",
     "text": [
      "/home/gaziova/miniconda3/envs/gaziova_jupyter/lib/python3.7/site-packages/ipykernel_launcher.py:15: SettingWithCopyWarning: \n",
      "A value is trying to be set on a copy of a slice from a DataFrame.\n",
      "Try using .loc[row_indexer,col_indexer] = value instead\n",
      "\n",
      "See the caveats in the documentation: http://pandas.pydata.org/pandas-docs/stable/indexing.html#indexing-view-versus-copy\n",
      "  from ipykernel import kernelapp as app\n"
     ]
    }
   ],
   "source": [
    "#nemozeme teraz pouzit DDD_frequenciu lebo vo vysledku z annotsv nie je , \n",
    "# preto pocitame frekvenciu iba z DGV(obsahuje zdrave cnv)\n",
    "def D_gene_freq_2(row):\n",
    "    D_freq = -1\n",
    "    if row.SV_type == 'DUP':\n",
    "        if row.DGV_GAIN_n_samples_with_SV > 0 or row.DGV_GAIN_n_samples_tested > 0:\n",
    "                #D_freq = row.DDD_DUP_Frequency\n",
    "                D_freq = round((row.DGV_GAIN_n_samples_with_SV / row.DGV_GAIN_n_samples_tested), 8)\n",
    "    else:\n",
    "        if row.DGV_LOSS_n_samples_with_SV > 0 and row.DGV_GAIN_n_samples_tested > 0:\n",
    "            D_freq = round((row.DGV_LOSS_n_samples_with_SV / row.DGV_LOSS_n_samples_tested), 8)\n",
    "    \n",
    "    return D_freq\n",
    "\n",
    "annotsv_split['min_D_Frequency_2'] = annotsv_split.apply(D_gene_freq_2, axis=1)"
   ]
  },
  {
   "cell_type": "code",
   "execution_count": 34,
   "metadata": {},
   "outputs": [
    {
     "name": "stderr",
     "output_type": "stream",
     "text": [
      "/home/gaziova/miniconda3/envs/gaziova_jupyter/lib/python3.7/site-packages/ipykernel_launcher.py:13: SettingWithCopyWarning: \n",
      "A value is trying to be set on a copy of a slice from a DataFrame.\n",
      "Try using .loc[row_indexer,col_indexer] = value instead\n",
      "\n",
      "See the caveats in the documentation: http://pandas.pydata.org/pandas-docs/stable/indexing.html#indexing-view-versus-copy\n",
      "  del sys.path[0]\n"
     ]
    }
   ],
   "source": [
    "#nemozeme teraz pouzit DDD_frequenciu lebo vo vysledku z annotsv nie je , \n",
    "# preto pocitame frekvenciu iba z DGV(obsahuje zdrave cnv)\n",
    "def D_gene_freq_3(row):\n",
    "    D_freq = -1\n",
    "    if row.SV_type == 'DUP':\n",
    "        if row.DGV_GAIN_Frequency > 0: \n",
    "            D_freq = row.DGV_GAIN_Frequency\n",
    "    else:\n",
    "        if row.DGV_LOSS_Frequency > 0:\n",
    "            D_freq = row.DGV_LOSS_Frequency\n",
    "    return D_freq\n",
    "\n",
    "annotsv_split['min_D_Frequency_3'] = annotsv_split.apply(D_gene_freq_3, axis=1)"
   ]
  },
  {
   "cell_type": "code",
   "execution_count": 38,
   "metadata": {
    "scrolled": true
   },
   "outputs": [
    {
     "name": "stdout",
     "output_type": "stream",
     "text": [
      "-1.0 0.0007554\n",
      "-1.0 0.0007554\n",
      "-1.0 0.0007554\n",
      "-1.0 0.0007554\n",
      "-1.0 0.0007554\n",
      "-1.0 0.0007554\n",
      "-1.0 0.0007554\n",
      "-1.0 0.0007554\n",
      "-1.0 0.0007554\n",
      "-1.0 0.0007554\n",
      "-1.0 0.00082327\n",
      "-1.0 0.00082327\n",
      "-1.0 0.00055356\n",
      "-1.0 0.00010212\n",
      "-1.0 0.0007427\n",
      "-1.0 0.00040437\n",
      "-1.0 0.00109439\n",
      "-1.0 0.00287384\n",
      "-1.0 0.00151362\n",
      "-1.0 0.00151362\n",
      "-1.0 0.00287384\n",
      "-1.0 0.00151362\n",
      "-1.0 0.00151362\n",
      "-1.0 0.00151362\n",
      "-1.0 0.00151362\n",
      "-1.0 0.00298219\n",
      "-1.0 0.00024262\n",
      "-1.0 0.0002553\n"
     ]
    }
   ],
   "source": [
    "x = annotsv_split[['min_D_Frequency_2', 'min_D_Frequency_3']]\n",
    "c = 0\n",
    "m = 0\n",
    "cm = 0\n",
    "n = 0\n",
    "for _, row in x.iterrows():\n",
    "    if np.isnan(row.min_D_Frequency_2) or np.isnan(row.min_D_Frequency_3 < 0):\n",
    "        n+=1\n",
    "        print(row.min_D_Frequency_2, row.min_D_Frequency_3)\n",
    "    else:\n",
    "        if row.min_D_Frequency_2 != row.min_D_Frequency_3:\n",
    "            c+=1\n",
    "#             print(row.min_D_Frequency_2, row.min_D_Frequency_3)\n",
    "            if row.min_D_Frequency_2 < 0 or row.min_D_Frequency_3 < 0:\n",
    "                cm +=1\n",
    "                print(row.min_D_Frequency_2, row.min_D_Frequency_3)\n",
    "        if row.min_D_Frequency_2 < 0 or row.min_D_Frequency_3 < 0:\n",
    "            m += 1"
   ]
  },
  {
   "cell_type": "code",
   "execution_count": 40,
   "metadata": {},
   "outputs": [
    {
     "name": "stderr",
     "output_type": "stream",
     "text": [
      "/home/gaziova/miniconda3/envs/gaziova_jupyter/lib/python3.7/site-packages/ipykernel_launcher.py:18: SettingWithCopyWarning: \n",
      "A value is trying to be set on a copy of a slice from a DataFrame.\n",
      "Try using .loc[row_indexer,col_indexer] = value instead\n",
      "\n",
      "See the caveats in the documentation: http://pandas.pydata.org/pandas-docs/stable/indexing.html#indexing-view-versus-copy\n"
     ]
    }
   ],
   "source": [
    "# minimalna frekvencia pre cnv z master_frekvencii genov\n",
    "dict_master_freq = {}\n",
    "\n",
    "for _, row in annotsv_split.iterrows():\n",
    "    cnv_id = row.rcvAcc\n",
    "    min_D_freq = row.min_D_Frequency_3\n",
    "    \n",
    "    if cnv_id not in dict_master_freq:\n",
    "        dict_master_freq[cnv_id] = (0, min_D_freq)\n",
    "    else:\n",
    "#         prev_master_freq = dict_master_freq[cnv_id][0]\n",
    "        prev_D_freq = dict_master_freq[cnv_id][1]\n",
    "#         min_master_freq = min(min_master_freq, prev_master_freq)\n",
    "        min_D_freq = min(min_D_freq, prev_D_freq)\n",
    "        dict_master_freq[cnv_id] = (0, min_D_freq)\n",
    "\n",
    "# annotsv_full['master_cnv_freq_withMinD'] = annotsv_full.rcvAcc.apply(lambda rcvAcc: dict_master_freq.get(rcvAcc, (0, 0))[0])\n",
    "annotsv_full['min_D_Frequency_3'] = annotsv_full.rcvAcc.apply(lambda rcvAcc: dict_master_freq.get(rcvAcc, (0, 0))[1])\n",
    "# annotsv_full['master_cnv_freq'] = annotsv_split.apply(master_freq_cnv, axis = 1)"
   ]
  },
  {
   "cell_type": "code",
   "execution_count": 39,
   "metadata": {},
   "outputs": [
    {
     "data": {
      "text/plain": [
       "(28, 28, 742, 0)"
      ]
     },
     "execution_count": 39,
     "metadata": {},
     "output_type": "execute_result"
    }
   ],
   "source": [
    "c, cm, m, n"
   ]
  },
  {
   "cell_type": "code",
   "execution_count": 41,
   "metadata": {},
   "outputs": [],
   "source": [
    "slovak_CNV = pd.read_csv('/home/gaziova/CNWeb/hg38_publikacia/slovakCNV_hg38_annotated.tsv', sep='\\t')\n"
   ]
  },
  {
   "cell_type": "code",
   "execution_count": 51,
   "metadata": {
    "scrolled": true
   },
   "outputs": [
    {
     "name": "stdout",
     "output_type": "stream",
     "text": [
      "0.0007553999999999999 0.0007554\n",
      "0.00037769999999999997 0.0003777\n",
      "0.00037769999999999997 0.0003777\n",
      "0.00037769999999999997 0.0003777\n"
     ]
    }
   ],
   "source": [
    "n = 0\n",
    "for i in range(220):\n",
    "    if np.isnan(slovak_CNV['min_D_Frequency'].iloc[i]) or np.isnan(annotsv_full['min_D_Frequency_3'].iloc[i]):\n",
    "        print(slovak_CNV['min_D_Frequency'].iloc[i], annotsv_full['min_D_Frequency_3'].iloc[i])\n",
    "        n += 1\n",
    "    else:\n",
    "        if slovak_CNV['min_D_Frequency'].iloc[i] != annotsv_full['min_D_Frequency_3'].iloc[i]:\n",
    "            print(slovak_CNV['min_D_Frequency'].iloc[i], annotsv_full['min_D_Frequency_3'].iloc[i])\n",
    "            "
   ]
  },
  {
   "cell_type": "code",
   "execution_count": 55,
   "metadata": {},
   "outputs": [
    {
     "data": {
      "text/plain": [
       "0.16957306"
      ]
     },
     "execution_count": 55,
     "metadata": {},
     "output_type": "execute_result"
    }
   ],
   "source": [
    "max(slovak_CNV['min_D_Frequency'])"
   ]
  },
  {
   "cell_type": "code",
   "execution_count": 17,
   "metadata": {},
   "outputs": [],
   "source": [
    "for _, row in annotsv_split.iterrows():\n",
    "    if row.DGV_LOSS_Frequency < 0 and row.DGV_LOSS_Frequency != -1:\n",
    "        print(row.DGV_LOSS_Frequency)"
   ]
  },
  {
   "cell_type": "code",
   "execution_count": 20,
   "metadata": {},
   "outputs": [],
   "source": [
    "# minimalna frekvencia pre cnv z master_frekvencii genov\n",
    "dict_master_freq = {}\n",
    "\n",
    "for _, row in annotsv_split.iterrows():\n",
    "    cnv_id = row.rcvAcc\n",
    "    \n",
    "#     min_master_freq = row.master_gene_freq_withMinD  #row.master_gene_freq\n",
    "    min_D_freq = row.min_D_Frequency\n",
    "    \n",
    "    #if min_master_freq < 0:\n",
    "        \n",
    "        #min_master_freq = 1\n",
    "#     if min_D_freq < 0:\n",
    "#         min_D_freq = 1\n",
    "    \n",
    "    if cnv_id not in dict_master_freq:\n",
    "        dict_master_freq[cnv_id] = (0, min_D_freq)\n",
    "    else:\n",
    "#         prev_master_freq = dict_master_freq[cnv_id][0]\n",
    "        prev_D_freq = dict_master_freq[cnv_id][1]\n",
    "#         min_master_freq = min(min_master_freq, prev_master_freq)\n",
    "        min_D_freq = min(min_D_freq, prev_D_freq)\n",
    "        dict_master_freq[cnv_id] = (0, min_D_freq)\n",
    "\n",
    "# annotsv_full['master_cnv_freq_withMinD'] = annotsv_full.rcvAcc.apply(lambda rcvAcc: dict_master_freq.get(rcvAcc, (0, 0))[0])\n",
    "annotsv_full['min_D_Frequency'] = annotsv_full.rcvAcc.apply(lambda rcvAcc: dict_master_freq.get(rcvAcc, (0, 0))[1])\n",
    "# annotsv_full['master_cnv_freq'] = annotsv_split.apply(master_freq_cnv, axis = 1)"
   ]
  },
  {
   "cell_type": "code",
   "execution_count": null,
   "metadata": {},
   "outputs": [],
   "source": [
    "annotsv_split['min_D_Frequency'] = annotsv_split.apply(D_gene_freq, axis=1)"
   ]
  },
  {
   "cell_type": "code",
   "execution_count": 13,
   "metadata": {},
   "outputs": [],
   "source": [
    "def DDD_del_pLI_gene_count(annotsv_split, annotsv_full):\n",
    "    decifer_dict = {}\n",
    "    for _, row in annotsv_split.iterrows():\n",
    "        cnv_id = row.rcvAcc\n",
    "        haploinsufficiency_perc_decifer = row.HI_DDDpercent\n",
    "        indel = row.SV_type\n",
    "\n",
    "        if indel == 'DEL':\n",
    "            if haploinsufficiency_perc_decifer <= 10:  # pri tomto thresholde a delecii sposobia problem\n",
    "                if cnv_id not in decifer_dict:\n",
    "                    count = 1\n",
    "                else:\n",
    "                    count = decifer_dict[cnv_id] + 1\n",
    "                decifer_dict[cnv_id] = count\n",
    "        else:\n",
    "            decifer_dict[cnv_id] = 0\n",
    "\n",
    "    annotsv_full['HI_DDDperc_haploinsufficient_gene_count'] = annotsv_full.rcvAcc.apply(\n",
    "        lambda rcvAcc: decifer_dict.get(rcvAcc, 0))\n",
    "    return annotsv_full"
   ]
  },
  {
   "cell_type": "code",
   "execution_count": 14,
   "metadata": {},
   "outputs": [
    {
     "name": "stderr",
     "output_type": "stream",
     "text": [
      "/home/gaziova/miniconda3/envs/gaziova_jupyter/lib/python3.7/site-packages/ipykernel_launcher.py:19: SettingWithCopyWarning: \n",
      "A value is trying to be set on a copy of a slice from a DataFrame.\n",
      "Try using .loc[row_indexer,col_indexer] = value instead\n",
      "\n",
      "See the caveats in the documentation: http://pandas.pydata.org/pandas-docs/stable/indexing.html#indexing-view-versus-copy\n"
     ]
    }
   ],
   "source": [
    "# pocet genov, ktore pri ich strate sposobia znefunkcnenie\n",
    "annotsv_full = DDD_del_pLI_gene_count(annotsv_split, annotsv_full)"
   ]
  },
  {
   "cell_type": "code",
   "execution_count": 6,
   "metadata": {},
   "outputs": [
    {
     "data": {
      "text/plain": [
       "Counter({nan: 483754,\n",
       "         '0': 25964,\n",
       "         'Not yet evaluated': 5272,\n",
       "         '2': 51,\n",
       "         '1': 354,\n",
       "         '3': 180,\n",
       "         '40': 66})"
      ]
     },
     "execution_count": 6,
     "metadata": {},
     "output_type": "execute_result"
    }
   ],
   "source": [
    "duplikacie = annotsv_split[annotsv_split.SV_type == 'DUP']\n",
    "Counter(duplikacie.TriS_CGscore)"
   ]
  },
  {
   "cell_type": "code",
   "execution_count": 10,
   "metadata": {},
   "outputs": [
    {
     "data": {
      "text/plain": [
       "Counter({False: 483754, True: 31887})"
      ]
     },
     "execution_count": 10,
     "metadata": {},
     "output_type": "execute_result"
    }
   ],
   "source": [
    "Counter(duplikacie.TriS_CGscore.notna())"
   ]
  },
  {
   "cell_type": "code",
   "execution_count": 15,
   "metadata": {},
   "outputs": [],
   "source": [
    "def clinGen_indel_pLI_gene_count_2(annotsv_split, annotsv_full):\n",
    "    clinGen_dict = {}\n",
    "    for _, row in annotsv_split.iterrows():\n",
    "        cnv_id = row.rcvAcc\n",
    "        indel = row.SV_type\n",
    "        if indel == 'DEL':\n",
    "            score = row.HI_CGscore\n",
    "        else:\n",
    "            score = row.TriS_CGscore\n",
    "        if score == 2 or score == 3:\n",
    "            if cnv_id not in clinGen_dict:\n",
    "                count = 1\n",
    "            else:\n",
    "                count = clinGen_dict[cnv_id] + 1\n",
    "            clinGen_dict[cnv_id] = count\n",
    "\n",
    "    annotsv_full['CGscore_indel_gene_count_2'] = annotsv_full.rcvAcc.apply(lambda rcvAcc: clinGen_dict.get(rcvAcc, 0))\n",
    "    return annotsv_full"
   ]
  },
  {
   "cell_type": "code",
   "execution_count": 16,
   "metadata": {},
   "outputs": [
    {
     "name": "stderr",
     "output_type": "stream",
     "text": [
      "/home/gaziova/miniconda3/envs/gaziova_jupyter/lib/python3.7/site-packages/ipykernel_launcher.py:17: SettingWithCopyWarning: \n",
      "A value is trying to be set on a copy of a slice from a DataFrame.\n",
      "Try using .loc[row_indexer,col_indexer] = value instead\n",
      "\n",
      "See the caveats in the documentation: http://pandas.pydata.org/pandas-docs/stable/indexing.html#indexing-view-versus-copy\n"
     ]
    }
   ],
   "source": [
    "annotsv_full = clinGen_indel_pLI_gene_count_2(annotsv_split, annotsv_full)"
   ]
  },
  {
   "cell_type": "code",
   "execution_count": 17,
   "metadata": {},
   "outputs": [],
   "source": [
    "def Exac_pLI(annotsv_split, annotsv_full):\n",
    "    exac_pLI_dict = {}\n",
    "\n",
    "    for _, row in annotsv_split.iterrows():\n",
    "        pli = row.pLI_ExAC\n",
    "\n",
    "        if pli >= 0.9:  # extremly LoF intolerant set of genes\n",
    "            cnv_id = row.rcvAcc\n",
    "            if cnv_id not in exac_pLI_dict:\n",
    "                count = 1\n",
    "            else:\n",
    "                count = exac_pLI_dict[cnv_id] + 1\n",
    "            exac_pLI_dict[cnv_id] = count\n",
    "\n",
    "    annotsv_full['ExAC_zScore_pLI'] = annotsv_full.rcvAcc.apply(lambda rcvAcc: exac_pLI_dict.get(rcvAcc, 0))\n",
    "    return annotsv_full"
   ]
  },
  {
   "cell_type": "code",
   "execution_count": 18,
   "metadata": {},
   "outputs": [
    {
     "name": "stderr",
     "output_type": "stream",
     "text": [
      "/home/gaziova/miniconda3/envs/gaziova_jupyter/lib/python3.7/site-packages/ipykernel_launcher.py:15: SettingWithCopyWarning: \n",
      "A value is trying to be set on a copy of a slice from a DataFrame.\n",
      "Try using .loc[row_indexer,col_indexer] = value instead\n",
      "\n",
      "See the caveats in the documentation: http://pandas.pydata.org/pandas-docs/stable/indexing.html#indexing-view-versus-copy\n",
      "  from ipykernel import kernelapp as app\n"
     ]
    }
   ],
   "source": [
    "# Counting genes in cnv with high probability that gene is intolerant to loss of function mutation\n",
    "annotsv_split = Exac_pLI(annotsv_split, annotsv_full)"
   ]
  },
  {
   "cell_type": "code",
   "execution_count": 19,
   "metadata": {},
   "outputs": [],
   "source": [
    "def Exac_zScore_indel(annotsv_split, annotsv_full):\n",
    "    exac_indel_dict = {}\n",
    "    for _, row in annotsv_split.iterrows():\n",
    "        indel = row.SV_type\n",
    "        cnv_id = row.rcvAcc\n",
    "\n",
    "        if indel == 'DEL':\n",
    "            z_score_indel = row.delZ_ExAC\n",
    "        else:\n",
    "            z_score_indel = row.dupZ_ExAC\n",
    "        z_score_cnv = row.cnvZ_ExAC\n",
    "\n",
    "        if cnv_id in exac_indel_dict:\n",
    "            z_score_indel_prev = exac_indel_dict[cnv_id][0]\n",
    "            z_score_cnv_prev = exac_indel_dict[cnv_id][1]\n",
    "\n",
    "            if np.isnan(z_score_indel):\n",
    "                z_score_indel = z_score_indel_prev\n",
    "            else:\n",
    "                z_score_indel = max(z_score_indel, z_score_indel_prev)\n",
    "            if np.isnan(z_score_cnv):\n",
    "                z_score_cnv = z_score_cnv_prev\n",
    "            else:\n",
    "                z_score_cnv = max(z_score_cnv, z_score_cnv_prev)  # min\n",
    "\n",
    "        if np.isnan(z_score_indel):\n",
    "            z_score_indel = -10\n",
    "        if np.isnan(z_score_cnv):\n",
    "            z_score_cnv = -10\n",
    "        exac_indel_dict[cnv_id] = (z_score_indel, z_score_cnv)\n",
    "\n",
    "    annotsv_full['ExAC_zScore_indel'] = annotsv_full.rcvAcc.apply(lambda rcvAcc: exac_indel_dict.get(rcvAcc, (0, 0))[0])\n",
    "    annotsv_full['ExAc_zScore_cnv'] = annotsv_full.rcvAcc.apply(lambda rcvAcc: exac_indel_dict.get(rcvAcc, (0, 0))[1])\n",
    "    return annotsv_full"
   ]
  },
  {
   "cell_type": "code",
   "execution_count": 20,
   "metadata": {},
   "outputs": [
    {
     "name": "stderr",
     "output_type": "stream",
     "text": [
      "/home/gaziova/miniconda3/envs/gaziova_jupyter/lib/python3.7/site-packages/ipykernel_launcher.py:32: SettingWithCopyWarning: \n",
      "A value is trying to be set on a copy of a slice from a DataFrame.\n",
      "Try using .loc[row_indexer,col_indexer] = value instead\n",
      "\n",
      "See the caveats in the documentation: http://pandas.pydata.org/pandas-docs/stable/indexing.html#indexing-view-versus-copy\n",
      "/home/gaziova/miniconda3/envs/gaziova_jupyter/lib/python3.7/site-packages/ipykernel_launcher.py:33: SettingWithCopyWarning: \n",
      "A value is trying to be set on a copy of a slice from a DataFrame.\n",
      "Try using .loc[row_indexer,col_indexer] = value instead\n",
      "\n",
      "See the caveats in the documentation: http://pandas.pydata.org/pandas-docs/stable/indexing.html#indexing-view-versus-copy\n"
     ]
    }
   ],
   "source": [
    "# exac score a Z_score\n",
    "annotsv_full = Exac_zScore_indel(annotsv_split, annotsv_full)"
   ]
  },
  {
   "cell_type": "code",
   "execution_count": null,
   "metadata": {},
   "outputs": [],
   "source": [
    "['CGscore_indel_gene_count_2', 'ExAC_zScore_pLI', 'ExAC_zScore_indel', 'min_D_Frequency', 'gene_count', 'HI_DDDperc_haploinsufficient_gene_count'] in annotsv_full.columns"
   ]
  },
  {
   "cell_type": "code",
   "execution_count": 16,
   "metadata": {
    "scrolled": true
   },
   "outputs": [
    {
     "data": {
      "text/plain": [
       "(Counter({'Pathogenic': 6055,\n",
       "          'Uncertain significance': 6611,\n",
       "          'Likely benign': 1742,\n",
       "          'Benign': 12094,\n",
       "          'drug response': 18,\n",
       "          'Conflicting interpretations of pathogenicity': 12,\n",
       "          'Likely pathogenic': 713,\n",
       "          'Pathogenic/Likely pathogenic': 6,\n",
       "          'conflicting data from submitters': 79,\n",
       "          'Benign/Likely benign': 49,\n",
       "          'not provided': 32}),\n",
       " Counter({'Pathogenic': 2901,\n",
       "          'Benign': 9608,\n",
       "          'Uncertain significance': 10859,\n",
       "          'Likely benign': 2703,\n",
       "          'not provided': 32,\n",
       "          'Likely pathogenic': 452,\n",
       "          'Benign/Likely benign': 146,\n",
       "          'conflicting data from submitters': 114,\n",
       "          'Conflicting interpretations of pathogenicity': 19,\n",
       "          'Pathogenic/Likely pathogenic': 5}))"
      ]
     },
     "execution_count": 16,
     "metadata": {},
     "output_type": "execute_result"
    }
   ],
   "source": [
    "delecie = hg38[hg38.type == 'copy number loss']\n",
    "duplikacie = hg38[hg38.type == 'copy number gain']\n",
    "Counter(delecie.clinsig), Counter(duplikacie.clinsig)"
   ]
  },
  {
   "cell_type": "code",
   "execution_count": null,
   "metadata": {},
   "outputs": [],
   "source": [
    "# Create file with annotations from annotsv (full a an split records) and new attributes aggregated from them  "
   ]
  },
  {
   "cell_type": "code",
   "execution_count": 14,
   "metadata": {},
   "outputs": [],
   "source": [
    "# iba ze cnv ma rizikovy gen (0/1) (DDD_del_pLI_gene_count = pocet rizikovych genov)\n",
    "def DDD_del_pLI_risk(annotsv_split, annotsv_full):\n",
    "    decifer_dict = {}\n",
    "    for _, row in annotsv_split.iterrows():\n",
    "        cnv_id = row.rcvAcc\n",
    "        haploinsufficiency_perc_decifer = row.HI_DDDpercent\n",
    "        indel = row.SV_type\n",
    "\n",
    "        if indel == 'DEL':\n",
    "            if haploinsufficiency_perc_decifer <= 10:  # pri tomto thresholde a delecii sposobia problem\n",
    "                if cnv_id not in decifer_dict:\n",
    "                    decifer_dict[cnv_id] = 1\n",
    "        else:\n",
    "            decifer_dict[cnv_id] = np.NaN\n",
    "\n",
    "    annotsv_full['HI_DDDperc_haploinsufficiecy_risk'] = annotsv_full.rcvAcc.apply(\n",
    "        lambda rcvAcc: decifer_dict.get(rcvAcc, 0))\n",
    "    return annotsv_full\n",
    "\n",
    "annotsv_full = DDD_del_pLI_risk(annotsv_split, annotsv_full)"
   ]
  },
  {
   "cell_type": "code",
   "execution_count": 11,
   "metadata": {},
   "outputs": [
    {
     "name": "stderr",
     "output_type": "stream",
     "text": [
      "/home/gaziova/miniconda3/envs/gaziova_jupyter/lib/python3.7/site-packages/ipykernel_launcher.py:15: SettingWithCopyWarning: \n",
      "A value is trying to be set on a copy of a slice from a DataFrame.\n",
      "Try using .loc[row_indexer,col_indexer] = value instead\n",
      "\n",
      "See the caveats in the documentation: http://pandas.pydata.org/pandas-docs/stable/indexing.html#indexing-view-versus-copy\n",
      "  from ipykernel import kernelapp as app\n"
     ]
    }
   ],
   "source": [
    "#nemozeme teraz pouzit DDD_frequenciu lebo vo vysledku z annotsv nie je , \n",
    "# preto pocitame frekvenciu iba z DGV(obsahuje zdrave cnv)\n",
    "def D_gene_freq_max_2(row):\n",
    "    D_freq = -1\n",
    "    if row.SV_type == 'DUP':\n",
    "        if row.DGV_GAIN_n_samples_with_SV > 0 or row.DGV_GAIN_n_samples_tested > 0:\n",
    "                #D_freq = row.DDD_DUP_Frequency\n",
    "                D_freq = round((row.DGV_GAIN_n_samples_with_SV / row.DGV_GAIN_n_samples_tested), 8)\n",
    "    else:\n",
    "        if row.DGV_LOSS_n_samples_with_SV > 0 and row.DGV_GAIN_n_samples_tested > 0:\n",
    "            D_freq = round((row.DGV_LOSS_n_samples_with_SV / row.DGV_LOSS_n_samples_tested), 8)\n",
    "    \n",
    "    return D_freq\n",
    "\n",
    "annotsv_split['max_D_Frequency_2'] = annotsv_split.apply(D_gene_freq_max_2, axis=1)"
   ]
  },
  {
   "cell_type": "code",
   "execution_count": 13,
   "metadata": {},
   "outputs": [],
   "source": [
    "dict_master_freq = {}\n",
    "\n",
    "for _, row in annotsv_split.iterrows():\n",
    "    cnv_id = row.rcvAcc\n",
    "    max_D_freq = row.max_D_Frequency_2\n",
    "\n",
    "    if cnv_id not in dict_master_freq:\n",
    "        dict_master_freq[cnv_id] = (0, max_D_freq)\n",
    "    else:\n",
    "        prev_D_freq = dict_master_freq[cnv_id][1]\n",
    "        max_D_freq = max(max_D_freq, prev_D_freq)\n",
    "        dict_master_freq[cnv_id] = (0, max_D_freq)\n",
    "\n",
    "annotsv_full['max_D_Frequency_2'] = annotsv_full.rcvAcc.apply(lambda rcvAcc: dict_master_freq.get(rcvAcc, (0, 0))[1])"
   ]
  },
  {
   "cell_type": "code",
   "execution_count": 8,
   "metadata": {},
   "outputs": [
    {
     "name": "stderr",
     "output_type": "stream",
     "text": [
      "/home/gaziova/miniconda3/envs/gaziova_jupyter/lib/python3.7/site-packages/ipykernel_launcher.py:13: SettingWithCopyWarning: \n",
      "A value is trying to be set on a copy of a slice from a DataFrame.\n",
      "Try using .loc[row_indexer,col_indexer] = value instead\n",
      "\n",
      "See the caveats in the documentation: http://pandas.pydata.org/pandas-docs/stable/indexing.html#indexing-view-versus-copy\n",
      "  del sys.path[0]\n"
     ]
    }
   ],
   "source": [
    "def D_gene_freq_max(row):\n",
    "    D_freq = -1\n",
    "    if row.SV_type == 'DUP':\n",
    "        if row.DGV_GAIN_Frequency > 0:\n",
    "            D_freq = row.DGV_GAIN_Frequency\n",
    "        \n",
    "    else:\n",
    "        if row.DGV_LOSS_Frequency > 0:\n",
    "            D_freq = row.DGV_LOSS_Frequency\n",
    "    \n",
    "    return D_freq\n",
    "\n",
    "annotsv_split['max_D_Frequency'] = annotsv_split.apply(D_gene_freq_max, axis=1)"
   ]
  },
  {
   "cell_type": "code",
   "execution_count": 9,
   "metadata": {},
   "outputs": [],
   "source": [
    "dict_master_freq = {}\n",
    "\n",
    "for _, row in annotsv_split.iterrows():\n",
    "    cnv_id = row.rcvAcc\n",
    "    max_D_freq = row.max_D_Frequency\n",
    "\n",
    "    if cnv_id not in dict_master_freq:\n",
    "        dict_master_freq[cnv_id] = (0, max_D_freq)\n",
    "    else:\n",
    "        prev_D_freq = dict_master_freq[cnv_id][1]\n",
    "        max_D_freq = max(max_D_freq, prev_D_freq)\n",
    "        dict_master_freq[cnv_id] = (0, max_D_freq)\n",
    "\n",
    "annotsv_full['max_D_Frequency'] = annotsv_full.rcvAcc.apply(lambda rcvAcc: dict_master_freq.get(rcvAcc, (0, 0))[1])"
   ]
  },
  {
   "cell_type": "code",
   "execution_count": 7,
   "metadata": {},
   "outputs": [],
   "source": [
    "def clinGen_indel_pLI_risk(annotsv_split, annotsv_full):\n",
    "    clinGen_dict = {}\n",
    "    for _, row in annotsv_split.iterrows():\n",
    "        cnv_id = row.rcvAcc\n",
    "        indel = row.SV_type\n",
    "        if indel == 'DEL':\n",
    "            score = row.HI_CGscore\n",
    "        else:\n",
    "            score = row.TriS_CGscore\n",
    "        if score == 2 or score == 3:\n",
    "            if cnv_id not in clinGen_dict:\n",
    "                clinGen_dict[cnv_id] = 1\n",
    "\n",
    "    annotsv_full['CGscore_indel_risk'] = annotsv_full.rcvAcc.apply(lambda rcvAcc: clinGen_dict.get(rcvAcc, 0))\n",
    "    return annotsv_full\n",
    "\n",
    "annotsv_full = clinGen_indel_pLI_risk(annotsv_split, annotsv_full)"
   ]
  },
  {
   "cell_type": "code",
   "execution_count": 6,
   "metadata": {},
   "outputs": [],
   "source": [
    "def morbidGenes_risk(annotsv_full, morbid_cnv):\n",
    "    dict_morbidGenes = {}\n",
    "    for _, row in morbid_cnv.iterrows():\n",
    "        cnv_id = row.rcvAcc\n",
    "        if cnv_id not in dict_morbidGenes:\n",
    "            dict_morbidGenes[cnv_id] = 1\n",
    "\n",
    "    annotsv_full['morbidGene_risk'] = annotsv_full.rcvAcc.apply(lambda rcvAcc: dict_morbidGenes.get(rcvAcc, 0))\n",
    "    return annotsv_full\n",
    "\n",
    "morbid_cnv = annotsv_split[annotsv_split.morbidGenes == 'yes'] #  || annotsv_split.morbidGenesCandidates == 'yes']\n",
    "annotsv_full = morbidGenes_risk(annotsv_full, morbid_cnv)"
   ]
  },
  {
   "cell_type": "code",
   "execution_count": 5,
   "metadata": {},
   "outputs": [],
   "source": [
    "def Exac_pLI_risk(annotsv_split, annotsv_full):\n",
    "    exac_pLI_dict = {}\n",
    "\n",
    "    for _, row in annotsv_split.iterrows():\n",
    "        pli = row.pLI_ExAC\n",
    "\n",
    "        if pli >= 0.9:  # extremly LoF intolerant set of genes\n",
    "            cnv_id = row.rcvAcc\n",
    "            if cnv_id not in exac_pLI_dict:\n",
    "                exac_pLI_dict[cnv_id] = 1\n",
    "\n",
    "    annotsv_full['ExAC_zScore_pLI_risk'] = annotsv_full.rcvAcc.apply(lambda rcvAcc: exac_pLI_dict.get(rcvAcc, 0))\n",
    "    return annotsv_full\n",
    "\n",
    "annotsv_full = Exac_pLI_risk(annotsv_split, annotsv_full)"
   ]
  },
  {
   "cell_type": "code",
   "execution_count": 4,
   "metadata": {},
   "outputs": [],
   "source": [
    "def Exac_zScore_indel_min(annotsv_split, annotsv_full):\n",
    "    exac_indel_dict = {}\n",
    "    for _, row in annotsv_split.iterrows():\n",
    "        indel = row.SV_type\n",
    "        cnv_id = row.rcvAcc\n",
    "\n",
    "        if indel == 'DEL':\n",
    "            z_score_indel = row.delZ_ExAC\n",
    "        else:\n",
    "            z_score_indel = row.dupZ_ExAC\n",
    "        z_score_cnv = row.cnvZ_ExAC\n",
    "\n",
    "        if cnv_id in exac_indel_dict:\n",
    "            z_score_indel_prev = exac_indel_dict[cnv_id][0]\n",
    "            z_score_cnv_prev = exac_indel_dict[cnv_id][1]\n",
    "\n",
    "            if np.isnan(z_score_indel):\n",
    "                z_score_indel = z_score_indel_prev\n",
    "            else:\n",
    "                z_score_indel = min(z_score_indel, z_score_indel_prev)\n",
    "            if np.isnan(z_score_cnv):\n",
    "                z_score_cnv = z_score_cnv_prev\n",
    "            else:\n",
    "                z_score_cnv = min(z_score_cnv, z_score_cnv_prev)\n",
    "\n",
    "        if np.isnan(z_score_indel):\n",
    "            z_score_indel = -10\n",
    "        if np.isnan(z_score_cnv):\n",
    "            z_score_cnv = -10\n",
    "        exac_indel_dict[cnv_id] = (z_score_indel, z_score_cnv)\n",
    "\n",
    "    annotsv_full['ExAC_zScore_indel_min'] = annotsv_full.rcvAcc.apply(lambda rcvAcc: exac_indel_dict.get(rcvAcc, (0, 0))[0])\n",
    "    annotsv_full['ExAc_zScore_cnv'] = annotsv_full.rcvAcc.apply(lambda rcvAcc: exac_indel_dict.get(rcvAcc, (0, 0))[1])\n",
    "    return annotsv_full\n",
    "\n",
    "annotsv_full = Exac_zScore_indel_min(annotsv_split, annotsv_full)"
   ]
  },
  {
   "cell_type": "code",
   "execution_count": null,
   "metadata": {},
   "outputs": [],
   "source": []
  },
  {
   "cell_type": "code",
   "execution_count": null,
   "metadata": {},
   "outputs": [],
   "source": []
  },
  {
   "cell_type": "code",
   "execution_count": null,
   "metadata": {},
   "outputs": [],
   "source": [
    "# maxima, minima, pocty ulozit tu\n",
    "# ine pocty a nove stributy do generate_features\n",
    "\n",
    "def gene_count(gene_names):\n",
    "    if pd.isnull(gene_names):\n",
    "        return 0\n",
    "    return gene_names.count('/') +1\n",
    "\n",
    "def promoters_count(gene_names):\n",
    "    if pd.isnull(gene_names):\n",
    "        return 0\n",
    "    return gene_names.count('/') + 1\n",
    "\n",
    "def y_clinSign(clinSign_name):\n",
    "    if clinSign_name == 'Pathogenic':\n",
    "        return 1\n",
    "    else:\n",
    "        return 0\n",
    "\n",
    "# frekvencia genu z DDD a DGV do jednej min_D_Frequency\n",
    "def D_gene_freq(row):\n",
    "    D_freq = -1\n",
    "    if row.SV_type == 'DUP':\n",
    "        if row.DGV_GAIN_n_samples_with_SV <= 0 or row.DGV_GAIN_n_samples_tested <= 0:\n",
    "            if row.DDD_DUP_Frequency > 0:\n",
    "                D_freq = row.DDD_DUP_Frequency\n",
    "        elif row.DDD_DUP_Frequency <= 0 or row.DDD_DUP_n_samples_with_SV <= 0:\n",
    "            if row.DGV_GAIN_Frequency > 0:\n",
    "                D_freq = row.DGV_GAIN_Frequency\n",
    "        else:\n",
    "            D_freq = (row.DGV_GAIN_n_samples_with_SV + row.DDD_DUP_n_samples_with_SV) / (\n",
    "                        row.DGV_GAIN_n_samples_tested + (row.DDD_DUP_Frequency * row.DDD_DUP_n_samples_with_SV))\n",
    "\n",
    "    else:\n",
    "        if row.DGV_LOSS_n_samples_with_SV <= 0 or row.DGV_GAIN_n_samples_tested <= 0:\n",
    "            if row.DDD_DEL_Frequency > 0:\n",
    "                D_freq = row.DDD_DEL_Frequency\n",
    "        elif row.DDD_DEL_Frequency <= 0 or row.DDD_DEL_n_samples_with_SV <= 0:\n",
    "            if row.DGV_LOSS_Frequency > 0:\n",
    "                D_freq = row.DGV_LOSS_Frequency\n",
    "        else:\n",
    "            D_freq = (row.DGV_LOSS_n_samples_with_SV + row.DDD_DEL_n_samples_with_SV) / (\n",
    "                        row.DGV_LOSS_n_samples_tested + (row.DDD_DEL_Frequency * row.DDD_DEL_n_samples_with_SV))\n",
    "    return D_freq\n",
    "\n",
    "def master_freq_gene_withMinD(row, db_frequencies):\n",
    "    min_db_freq = 1\n",
    "    for col in db_frequencies:\n",
    "        col = str(col)\n",
    "        if row[col] > 0:\n",
    "            min_db_freq = min(min_db_freq, row[col])\n",
    "    return min_db_freq\n",
    "\n",
    "def morbidGenes_count(annotsv_full, morbid_cnv):\n",
    "    dict_morbidGenes = {}\n",
    "    for _, row in morbid_cnv.iterrows():\n",
    "        id_cnv = row.rcvAcc\n",
    "        if id_cnv not in dict_morbidGenes:\n",
    "            count = 1\n",
    "        else:\n",
    "            count = dict_morbidGenes[id_cnv] + 1\n",
    "        dict_morbidGenes[id_cnv] = count\n",
    "\n",
    "    annotsv_full['morbidGene_count'] = annotsv_full.rcvAcc.apply(lambda rcvAcc: dict_morbidGenes.get(rcvAcc, 0))\n",
    "    return annotsv_full\n",
    "\n",
    "def master_freq(annotsv_split, annotsv_full):\n",
    "    dict_master_freq = {}\n",
    "    for _, row in annotsv_split.iterrows():\n",
    "        cnv_id = row.rcvAcc\n",
    "\n",
    "        min_master_freq = row.master_gene_freq_withMinD  # row.master_gene_freq\n",
    "        min_D_freq = row.min_D_Frequency\n",
    "\n",
    "        if cnv_id not in dict_master_freq:\n",
    "            dict_master_freq[cnv_id] = (min_master_freq, min_D_freq)\n",
    "        else:\n",
    "            prev_master_freq = dict_master_freq[cnv_id][0]\n",
    "            prev_D_freq = dict_master_freq[cnv_id][1]\n",
    "            min_master_freq = min(min_master_freq, prev_master_freq)\n",
    "            min_D_freq = min(min_D_freq, prev_D_freq)\n",
    "            dict_master_freq[cnv_id] = (min_master_freq, min_D_freq)\n",
    "    annotsv_full['master_cnv_freq_withMinD'] = annotsv_full.rcvAcc.apply(\n",
    "        lambda rcvAcc: dict_master_freq.get(rcvAcc, (0, 0))[0])\n",
    "    annotsv_full['min_D_Frequency'] = annotsv_full.rcvAcc.apply(lambda rcvAcc: dict_master_freq.get(rcvAcc, (0, 0))[1])\n",
    "    return  annotsv_full\n",
    "\n",
    "def Exac_zScore_indel(annotsv_split, annotsv_full):\n",
    "    exac_indel_dict = {}\n",
    "    for _, row in annotsv_split.iterrows():\n",
    "        indel = row.SV_type\n",
    "        cnv_id = row.rcvAcc\n",
    "\n",
    "        if indel == 'DEL':\n",
    "            z_score_indel = row.delZ_ExAC\n",
    "        else:\n",
    "            z_score_indel = row.dupZ_ExAC\n",
    "        z_score_cnv = row.cnvZ_ExAC\n",
    "\n",
    "        if cnv_id in exac_indel_dict:\n",
    "            z_score_indel_prev = exac_indel_dict[cnv_id][0]\n",
    "            z_score_cnv_prev = exac_indel_dict[cnv_id][1]\n",
    "\n",
    "            if np.isnan(z_score_indel):\n",
    "                z_score_indel = z_score_indel_prev\n",
    "            else:\n",
    "                z_score_indel = max(z_score_indel, z_score_indel_prev)\n",
    "            if np.isnan(z_score_cnv):\n",
    "                z_score_cnv = z_score_cnv_prev\n",
    "            else:\n",
    "                z_score_cnv = max(z_score_cnv, z_score_cnv_prev)  # min\n",
    "\n",
    "        if np.isnan(z_score_indel):\n",
    "            z_score_indel = -10\n",
    "        if np.isnan(z_score_cnv):\n",
    "            z_score_cnv = -10\n",
    "        exac_indel_dict[cnv_id] = (z_score_indel, z_score_cnv)\n",
    "\n",
    "    annotsv_full['ExAC_zScore_indel'] = annotsv_full.rcvAcc.apply(lambda rcvAcc: exac_indel_dict.get(rcvAcc, (0, 0))[0])\n",
    "    annotsv_full['ExAc_zScore_cnv'] = annotsv_full.rcvAcc.apply(lambda rcvAcc: exac_indel_dict.get(rcvAcc, (0, 0))[1])\n",
    "    return annotsv_full\n",
    "\n",
    "def Exac_pLI(annotsv_split, annotsv_full):\n",
    "    exac_pLI_dict = {}\n",
    "\n",
    "    for _, row in annotsv_split.iterrows():\n",
    "        pli = row.pLI_ExAC\n",
    "\n",
    "        if pli >= 0.9:  # extremly LoF intolerant set of genes\n",
    "            cnv_id = row.rcvAcc\n",
    "            if cnv_id not in exac_pLI_dict:\n",
    "                count = 1\n",
    "            else:\n",
    "                count = exac_pLI_dict[cnv_id] + 1\n",
    "            exac_pLI_dict[cnv_id] = count\n",
    "\n",
    "    annotsv_full['ExAC_zScore_pLI'] = annotsv_full.rcvAcc.apply(lambda rcvAcc: exac_pLI_dict.get(rcvAcc, 0))\n",
    "    return annotsv_full\n",
    "\n",
    "def DDD_del_pLI_gene_count(annotsv_split, annotsv_full):\n",
    "    decifer_dict = {}\n",
    "    for _, row in annotsv_split.iterrows():\n",
    "        cnv_id = row.rcvAcc\n",
    "        haploinsufficiency_perc_decifer = row.HI_DDDpercent\n",
    "        indel = row.SV_type\n",
    "\n",
    "        if indel == 'DEL':\n",
    "            if haploinsufficiency_perc_decifer <= 10:  # pri tomto thresholde a delecii sposobia problem\n",
    "                if cnv_id not in decifer_dict:\n",
    "                    count = 1\n",
    "                else:\n",
    "                    count = decifer_dict[cnv_id] + 1\n",
    "                decifer_dict[cnv_id] = count\n",
    "        else:\n",
    "            decifer_dict[cnv_id] = 0\n",
    "\n",
    "    annotsv_full['HI_DDDperc_haploinsufficient_gene_count'] = annotsv_full.rcvAcc.apply(\n",
    "        lambda rcvAcc: decifer_dict.get(rcvAcc, 0))\n",
    "    return annotsv_full\n",
    "\n",
    "def clinGen_indel_pLI_gene_count(annotsv_split, annotsv_full):\n",
    "    clinGen_dict = {}\n",
    "    for _, row in annotsv_split.iterrows():\n",
    "        cnv_id = row.rcvAcc\n",
    "        indel = row.SV_type\n",
    "        if indel == 'DEL':\n",
    "            score = row.HI_CGscore\n",
    "        else:\n",
    "            score = row.TriS_CGscore\n",
    "        if score == 2 or score == 3:\n",
    "            if cnv_id not in clinGen_dict:\n",
    "                count = 1\n",
    "            else:\n",
    "                count = clinGen_dict[cnv_id] + 1\n",
    "            clinGen_dict[cnv_id] = count\n",
    "\n",
    "    annotsv_full['CGscore_indel_gene_count'] = annotsv_full.rcvAcc.apply(lambda rcvAcc: clinGen_dict.get(rcvAcc, 0))\n",
    "    return annotsv_full\n",
    "\n",
    "def clinGen_indel_pLI_gene_count_2(annotsv_split, annotsv_full):\n",
    "    clinGen_dict = {}\n",
    "    for _, row in annotsv_split.iterrows():\n",
    "        cnv_id = row.rcvAcc\n",
    "        indel = row.SV_type\n",
    "        if indel == 'DEL':\n",
    "            score = row.HI_CGscore\n",
    "        else:\n",
    "            score = row.TriS_CGscore\n",
    "        if score == 2 or score == 3:\n",
    "            if cnv_id not in clinGen_dict:\n",
    "                count = 1\n",
    "            else:\n",
    "                count = clinGen_dict[cnv_id] + 1\n",
    "            clinGen_dict[cnv_id] = count\n",
    "\n",
    "    annotsv_full['CGscore_indel_gene_count_2'] = annotsv_full.rcvAcc.apply(lambda rcvAcc: clinGen_dict.get(rcvAcc, 0))\n",
    "    return annotsv_full\n",
    "\n",
    "    "
   ]
  },
  {
   "cell_type": "code",
   "execution_count": null,
   "metadata": {},
   "outputs": [],
   "source": [
    "#natahat tabulku:\n",
    "annotsv_file = '../isv_annotsv/data_annotsv/AnnotSV.r2yo0QbkMl.tsv'\n",
    "annotsv = pd.read_csv(annotsv_file, sep='\\t', low_memory=False)\n",
    "    \n",
    "annotsv = annotsv.rename({'SV chrom': 'chrom','SV start':'SV_start', 'SV end':'SV_end', 'SV type': 'SV_type',\n",
    "                'SV length': 'SV_length', 'Gene name': 'gene_name', 'AnnotSV type': 'AnnotSV_type', \n",
    "                'RCV': 'rcvAcc'}, axis='columns')\n",
    "\n",
    "annotsv_full = annotsv[annotsv.AnnotSV_type == 'full']\n",
    "annotsv_split = annotsv[annotsv.AnnotSV_type == 'split']\n",
    "\n",
    "annotsv_full['gene_count'] = annotsv_full.gene_name.apply(gene_count)\n",
    "annotsv_full['promoters_count'] = annotsv_full.promoters.apply(promoters_count)\n",
    "annotsv_full['clinsig_bin'] = annotsv_full.clinsig.apply(y_clinSign)\n",
    "annotsv_full['length'] = annotsv_full.SV_end - annotsv_full.SV_start + 1\n",
    "morbid_cnv = annotsv_split[annotsv_split.morbidGenes == 'yes']  # || annotsv_split.morbidGenesCandidates == 'yes']\n",
    "annotsv_full = morbidGenes_count(annotsv_full, morbid_cnv)  #annotsv_full['morbidGenes_count'] = annotsv_full..*apply(morbidGenes_count(morbid_cnv))\n"
   ]
  },
  {
   "cell_type": "code",
   "execution_count": null,
   "metadata": {},
   "outputs": [],
   "source": [
    "# annotsv_split['min_D_Frequency'] = annotsv_split.apply(D_gene_freq, axis=1)\n",
    "\n",
    "# exac score a Z_score\n",
    "annotsv_full = Exac_zScore_indel(annotsv_split, annotsv_full)\n",
    "\n",
    "# Counting genes in cnv with high probability that gene is intolerant to loss of function mutation\n",
    "annotsv_split = Exac_pLI(annotsv_split, annotsv_full)\n",
    "\n",
    "# pocet genov, ktore pri ich strate sposobia znefunkcnenie\n",
    "annotsv_split = DDD_del_pLI_gene_count(annotsv_split, annotsv_full)\n",
    "\n",
    "# haploinsufficiency & triplosensitivity z HI_cgScore\n",
    "annotsv_full = clinGen_indel_pLI_gene_count(annotsv_split, annotsv_full)\n",
    "\n",
    "# haploinsufficiency & triplosensitivity z HI_cgScore\n",
    "annotsv_full = clinGen_indel_pLI_gene_count_2(annotsv_split, annotsv_full)\n",
    "\n",
    "# nakoniec ulozit do noveho suboru, s ktorym budeme potom pracovat\n",
    "# annotsv_full_file = '../isv_annotsv/data_annotsv/AnnotSV.r2yo0QbkMl_full.tsv'\n",
    "# annotsv_full.to_csv(annotsv_full_file, sep='\\t', index=False)\n"
   ]
  },
  {
   "cell_type": "code",
   "execution_count": null,
   "metadata": {},
   "outputs": [],
   "source": [
    "annotsv_full_file = '../isv_annotsv/data_annotsv/AnnotSV.r2yo0QbkMl_full.tsv'\n",
    "annotsv_full.to_csv(annotsv_full_file, sep='\\t', index=False)"
   ]
  }
 ],
 "metadata": {
  "kernelspec": {
   "display_name": "Python 3",
   "language": "python",
   "name": "python3"
  },
  "language_info": {
   "codemirror_mode": {
    "name": "ipython",
    "version": 3
   },
   "file_extension": ".py",
   "mimetype": "text/x-python",
   "name": "python",
   "nbconvert_exporter": "python",
   "pygments_lexer": "ipython3",
   "version": "3.7.8"
  }
 },
 "nbformat": 4,
 "nbformat_minor": 2
}
