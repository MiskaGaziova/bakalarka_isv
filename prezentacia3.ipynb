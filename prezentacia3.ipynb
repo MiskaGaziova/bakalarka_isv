{
 "cells": [
  {
   "cell_type": "code",
   "execution_count": 35,
   "metadata": {},
   "outputs": [],
   "source": [
    "from sklearn.neighbors import KNeighborsClassifier\n",
    "from sklearn.preprocessing import StandardScaler\n",
    "import pandas as pd\n",
    "import sklearn\n",
    "import numpy as np\n",
    "from collections import Counter\n",
    "from sklearn.metrics import roc_curve, auc, roc_auc_score, accuracy_score\n",
    "from sklearn import metrics\n",
    "import matplotlib.pyplot as plt\n",
    "from scipy import stats\n",
    "import seaborn as sns\n",
    "import pickle\n",
    "from sklearn.feature_selection import RFE\n",
    "from sklearn import svm\n",
    "from xgboost import XGBClassifier\n",
    "from matplotlib.legend_handler import HandlerLine2D\n",
    "from matplotlib import rcParams\n",
    "from sklearn.model_selection import GridSearchCV\n",
    "from sklearn.model_selection import StratifiedKFold\n"
   ]
  },
  {
   "cell_type": "code",
   "execution_count": 2,
   "metadata": {},
   "outputs": [],
   "source": [
    "cnv_types = ['loss', 'gain']\n",
    "cnv_type = cnv_types[0]\n",
    "\n",
    "x_train_f = './data_annotsv/train_val_test_sets/train_val_test/x_train_' + cnv_type + '.tsv'\n",
    "y_train_f = './data_annotsv/train_val_test_sets/train_val_test/y_train_' + cnv_type + '.tsv'\n",
    "x_val_f = './data_annotsv/train_val_test_sets/train_val_test/x_val_'+ cnv_type + '.tsv'\n",
    "y_val_f = './data_annotsv/train_val_test_sets/train_val_test/y_val_'+ cnv_type + '.tsv'\n",
    "x_test_f = './data_annotsv/train_val_test_sets/train_val_test/x_test_' + cnv_type + '.tsv'\n",
    "y_test_f = './data_annotsv/train_val_test_sets/train_val_test/y_test_'+ cnv_type + '.tsv'\n",
    "\n",
    "x_train = pd.read_csv(x_train_f, sep='\\t')\n",
    "y_train = pd.read_csv(y_train_f, sep='\\t')\n",
    "x_val = pd.read_csv(x_val_f, sep='\\t')\n",
    "y_val = pd.read_csv(y_val_f, sep='\\t')\n",
    "x_test = pd.read_csv(x_test_f, sep='\\t')\n",
    "y_test = pd.read_csv(y_test_f, sep='\\t')\n",
    "\n",
    "ATTRIBUTES_TO_USE = [\n",
    "    'morbidGene_count', \n",
    "    'min_D_Frequency_3',\n",
    "    'ExAC_zScore_indel',\n",
    "    'ExAC_zScore_pLI',\n",
    "    'HI_DDDperc_haploinsufficient_gene_count',\n",
    "    'CGscore_indel_gene_count_2', \n",
    "    'gene_count',\n",
    "    'length'\n",
    "]\n",
    "\n",
    "if cnv_type == 'gain':\n",
    "    ATTRIBUTES_TO_USE.remove('HI_DDDperc_haploinsufficient_gene_count')\n",
    "    ATTRIBUTES_TO_USE.remove('CGscore_indel_gene_count_2')\n",
    "\n",
    "x_train = x_train[ATTRIBUTES_TO_USE]\n",
    "x_val = x_val[ATTRIBUTES_TO_USE]\n",
    "x_test = x_test[ATTRIBUTES_TO_USE]\n",
    "\n",
    "y_train = y_train.clinsig_bin\n",
    "y_val = y_val.clinsig_bin\n",
    "y_test = y_test.clinsig_bin"
   ]
  },
  {
   "cell_type": "code",
   "execution_count": 17,
   "metadata": {},
   "outputs": [
    {
     "data": {
      "text/plain": [
       "XGBClassifier(base_score=0.5, booster='gbtree', colsample_bylevel=1,\n",
       "              colsample_bynode=1, colsample_bytree=1, gamma=0, gpu_id=-1,\n",
       "              importance_type='gain', interaction_constraints='',\n",
       "              learning_rate=0.300000012, max_delta_step=0, max_depth=6,\n",
       "              min_child_weight=1, missing=nan, monotone_constraints='()',\n",
       "              n_estimators=100, n_jobs=0, num_parallel_tree=1, random_state=0,\n",
       "              reg_alpha=0, reg_lambda=1, scale_pos_weight=1, subsample=1,\n",
       "              tree_method='exact', validate_parameters=1, verbosity=None)"
      ]
     },
     "execution_count": 17,
     "metadata": {},
     "output_type": "execute_result"
    }
   ],
   "source": [
    "xgb_clf = XGBClassifier()\n",
    "xgb_clf.fit(x_train, y_train)"
   ]
  },
  {
   "cell_type": "code",
   "execution_count": 5,
   "metadata": {},
   "outputs": [
    {
     "data": {
      "text/plain": [
       "array([1, 0, 1, ..., 0, 1, 0])"
      ]
     },
     "execution_count": 5,
     "metadata": {},
     "output_type": "execute_result"
    }
   ],
   "source": [
    "xgb_clf.predict(x_val) "
   ]
  },
  {
   "cell_type": "code",
   "execution_count": 6,
   "metadata": {},
   "outputs": [
    {
     "data": {
      "text/plain": [
       "array([[1.6117096e-04, 9.9983883e-01],\n",
       "       [9.9860382e-01, 1.3962061e-03],\n",
       "       [4.2319298e-05, 9.9995768e-01],\n",
       "       ...,\n",
       "       [9.9490947e-01, 5.0905631e-03],\n",
       "       [4.5496225e-04, 9.9954504e-01],\n",
       "       [9.9914712e-01, 8.5287500e-04]], dtype=float32)"
      ]
     },
     "execution_count": 6,
     "metadata": {},
     "output_type": "execute_result"
    }
   ],
   "source": [
    "xgb_clf.predict_proba(x_val)"
   ]
  },
  {
   "cell_type": "code",
   "execution_count": 6,
   "metadata": {},
   "outputs": [
    {
     "name": "stdout",
     "output_type": "stream",
     "text": [
      "Train_accuracy: 0.9924134660976767 Train_precision: 0.9944360141628731\n",
      "Val_accuracy: 0.9657079646017699 Val_precision: 0.945679012345679\n",
      "Test_accuracy: 0.9728982300884956 Test_precision: 0.9479905437352246\n"
     ]
    }
   ],
   "source": [
    "xgb_clf = XGBClassifier()\n",
    "xgb_clf.fit(x_train, y_train)\n",
    "print('Train_accuracy:', accuracy_score(y_train, xgb_clf.predict(x_train)), 'Train_precision:', metrics.precision_score(y_train, xgb_clf.predict(x_train)))\n",
    "print('Val_accuracy:', accuracy_score(y_val, xgb_clf.predict(x_val)), 'Val_precision:', metrics.precision_score(y_val, xgb_clf.predict(x_val)))\n",
    "print('Test_accuracy:', accuracy_score(y_test, xgb_clf.predict(x_test)), 'Test_precision:', metrics.precision_score(y_test, xgb_clf.predict(x_test)))\n"
   ]
  },
  {
   "cell_type": "code",
   "execution_count": 9,
   "metadata": {
    "scrolled": true
   },
   "outputs": [
    {
     "name": "stdout",
     "output_type": "stream",
     "text": [
      "Train_accuracy: 0.9848150661689854 Train_precision: 0.9866212600340549\n",
      "Val_accuracy: 0.9627870150435471 Val_precision: 0.944078947368421\n",
      "Test_accuracy: 0.9619952494061758 Test_precision: 0.9532497149372862\n"
     ]
    }
   ],
   "source": [
    "xgb_clf = XGBClassifier()\n",
    "xgb_clf.fit(x_train, y_train)\n",
    "print('Train_accuracy:', accuracy_score(y_train, xgb_clf.predict(x_train)), 'Train_precision:', metrics.precision_score(y_train, xgb_clf.predict(x_train)))\n",
    "print('Val_accuracy:', accuracy_score(y_val, xgb_clf.predict(x_val)), 'Val_precision:', metrics.precision_score(y_val, xgb_clf.predict(x_val)))\n",
    "print('Test_accuracy:', accuracy_score(y_test, xgb_clf.predict(x_test)), 'Test_precision:', metrics.precision_score(y_test, xgb_clf.predict(x_test)))\n"
   ]
  },
  {
   "cell_type": "code",
   "execution_count": 15,
   "metadata": {},
   "outputs": [],
   "source": [
    "# Feature importance"
   ]
  },
  {
   "cell_type": "code",
   "execution_count": 8,
   "metadata": {},
   "outputs": [
    {
     "name": "stderr",
     "output_type": "stream",
     "text": [
      "/home/gaziova/miniconda3/envs/notebookProjects/lib/python3.7/site-packages/sklearn/utils/validation.py:70: FutureWarning: Pass n_features_to_select=1 as keyword args. From version 0.25 passing these as positional arguments will result in an error\n",
      "  FutureWarning)\n"
     ]
    },
    {
     "data": {
      "text/html": [
       "<div>\n",
       "<style scoped>\n",
       "    .dataframe tbody tr th:only-of-type {\n",
       "        vertical-align: middle;\n",
       "    }\n",
       "\n",
       "    .dataframe tbody tr th {\n",
       "        vertical-align: top;\n",
       "    }\n",
       "\n",
       "    .dataframe thead th {\n",
       "        text-align: right;\n",
       "    }\n",
       "</style>\n",
       "<table border=\"1\" class=\"dataframe\">\n",
       "  <thead>\n",
       "    <tr style=\"text-align: right;\">\n",
       "      <th></th>\n",
       "      <th>RFE_importance</th>\n",
       "      <th>Attribute</th>\n",
       "      <th>feature_importance</th>\n",
       "    </tr>\n",
       "  </thead>\n",
       "  <tbody>\n",
       "    <tr>\n",
       "      <th>5</th>\n",
       "      <td>2</td>\n",
       "      <td>CGscore_indel_gene_count_2</td>\n",
       "      <td>0.321017</td>\n",
       "    </tr>\n",
       "    <tr>\n",
       "      <th>0</th>\n",
       "      <td>1</td>\n",
       "      <td>morbidGene_count</td>\n",
       "      <td>0.244952</td>\n",
       "    </tr>\n",
       "    <tr>\n",
       "      <th>7</th>\n",
       "      <td>3</td>\n",
       "      <td>length</td>\n",
       "      <td>0.191918</td>\n",
       "    </tr>\n",
       "    <tr>\n",
       "      <th>3</th>\n",
       "      <td>4</td>\n",
       "      <td>ExAC_zScore_pLI</td>\n",
       "      <td>0.102687</td>\n",
       "    </tr>\n",
       "    <tr>\n",
       "      <th>1</th>\n",
       "      <td>5</td>\n",
       "      <td>min_D_Frequency_3</td>\n",
       "      <td>0.056643</td>\n",
       "    </tr>\n",
       "    <tr>\n",
       "      <th>6</th>\n",
       "      <td>6</td>\n",
       "      <td>gene_count</td>\n",
       "      <td>0.036164</td>\n",
       "    </tr>\n",
       "    <tr>\n",
       "      <th>2</th>\n",
       "      <td>7</td>\n",
       "      <td>ExAC_zScore_indel</td>\n",
       "      <td>0.030735</td>\n",
       "    </tr>\n",
       "    <tr>\n",
       "      <th>4</th>\n",
       "      <td>8</td>\n",
       "      <td>HI_DDDperc_haploinsufficient_gene_count</td>\n",
       "      <td>0.015885</td>\n",
       "    </tr>\n",
       "  </tbody>\n",
       "</table>\n",
       "</div>"
      ],
      "text/plain": [
       "   RFE_importance                                Attribute  feature_importance\n",
       "5               2               CGscore_indel_gene_count_2            0.321017\n",
       "0               1                         morbidGene_count            0.244952\n",
       "7               3                                   length            0.191918\n",
       "3               4                          ExAC_zScore_pLI            0.102687\n",
       "1               5                        min_D_Frequency_3            0.056643\n",
       "6               6                               gene_count            0.036164\n",
       "2               7                        ExAC_zScore_indel            0.030735\n",
       "4               8  HI_DDDperc_haploinsufficient_gene_count            0.015885"
      ]
     },
     "execution_count": 8,
     "metadata": {},
     "output_type": "execute_result"
    }
   ],
   "source": [
    "xgb_clf = XGBClassifier()\n",
    "xgb_clf.fit(x_train, y_train)\n",
    "\n",
    "rfe = RFE(xgb_clf, 1)\n",
    "rfe = rfe.fit(x_train, y_train)\n",
    "fi = pd.concat([pd.DataFrame(rfe.ranking_, columns=['RFE_importance']), \n",
    "                pd.DataFrame(ATTRIBUTES_TO_USE, columns=['Attribute']), \n",
    "                pd.DataFrame(xgb_clf.feature_importances_, columns=['feature_importance'])], axis = 1)\n",
    "fi = fi.sort_values(by='feature_importance',ascending=False)\n",
    "fi"
   ]
  },
  {
   "cell_type": "code",
   "execution_count": 14,
   "metadata": {
    "scrolled": true
   },
   "outputs": [
    {
     "name": "stdout",
     "output_type": "stream",
     "text": [
      "  agg_filter: a filter function, which takes a (m, n, 3) float array and a dpi value, and returns a (m, n, 3) array\n",
      "  alpha: float or None\n",
      "  animated: bool\n",
      "  backgroundcolor: color\n",
      "  bbox: dict with properties for `.patches.FancyBboxPatch`\n",
      "  clip_box: `.Bbox`\n",
      "  clip_on: bool\n",
      "  clip_path: Patch or (Path, Transform) or None\n",
      "  color or c: color\n",
      "  contains: unknown\n",
      "  figure: `.Figure`\n",
      "  fontfamily or family: {FONTNAME, 'serif', 'sans-serif', 'cursive', 'fantasy', 'monospace'}\n",
      "  fontproperties or font or font_properties: `.font_manager.FontProperties` or `str` or `pathlib.Path`\n",
      "  fontsize or size: float or {'xx-small', 'x-small', 'small', 'medium', 'large', 'x-large', 'xx-large'}\n",
      "  fontstretch or stretch: {a numeric value in range 0-1000, 'ultra-condensed', 'extra-condensed', 'condensed', 'semi-condensed', 'normal', 'semi-expanded', 'expanded', 'extra-expanded', 'ultra-expanded'}\n",
      "  fontstyle or style: {'normal', 'italic', 'oblique'}\n",
      "  fontvariant or variant: {'normal', 'small-caps'}\n",
      "  fontweight or weight: {a numeric value in range 0-1000, 'ultralight', 'light', 'normal', 'regular', 'book', 'medium', 'roman', 'semibold', 'demibold', 'demi', 'bold', 'heavy', 'extra bold', 'black'}\n",
      "  gid: str\n",
      "  horizontalalignment or ha: {'center', 'right', 'left'}\n",
      "  in_layout: bool\n",
      "  label: object\n",
      "  linespacing: float (multiple of font size)\n",
      "  multialignment or ma: {'left', 'right', 'center'}\n",
      "  path_effects: `.AbstractPathEffect`\n",
      "  picker: None or bool or callable\n",
      "  position: (float, float)\n",
      "  rasterized: bool or None\n",
      "  rotation: float or {'vertical', 'horizontal'}\n",
      "  rotation_mode: {None, 'default', 'anchor'}\n",
      "  sketch_params: (scale: float, length: float, randomness: float)\n",
      "  snap: bool or None\n",
      "  text: object\n",
      "  transform: `.Transform`\n",
      "  url: str\n",
      "  usetex: bool or None\n",
      "  verticalalignment or va: {'center', 'top', 'bottom', 'baseline', 'center_baseline'}\n",
      "  visible: bool\n",
      "  wrap: bool\n",
      "  x: float\n",
      "  y: float\n",
      "  zorder: float\n",
      "  agg_filter: a filter function, which takes a (m, n, 3) float array and a dpi value, and returns a (m, n, 3) array\n",
      "  alpha: float or None\n",
      "  animated: bool\n",
      "  backgroundcolor: color\n",
      "  bbox: dict with properties for `.patches.FancyBboxPatch`\n",
      "  clip_box: `.Bbox`\n",
      "  clip_on: bool\n",
      "  clip_path: Patch or (Path, Transform) or None\n",
      "  color or c: color\n",
      "  contains: unknown\n",
      "  figure: `.Figure`\n",
      "  fontfamily or family: {FONTNAME, 'serif', 'sans-serif', 'cursive', 'fantasy', 'monospace'}\n",
      "  fontproperties or font or font_properties: `.font_manager.FontProperties` or `str` or `pathlib.Path`\n",
      "  fontsize or size: float or {'xx-small', 'x-small', 'small', 'medium', 'large', 'x-large', 'xx-large'}\n",
      "  fontstretch or stretch: {a numeric value in range 0-1000, 'ultra-condensed', 'extra-condensed', 'condensed', 'semi-condensed', 'normal', 'semi-expanded', 'expanded', 'extra-expanded', 'ultra-expanded'}\n",
      "  fontstyle or style: {'normal', 'italic', 'oblique'}\n",
      "  fontvariant or variant: {'normal', 'small-caps'}\n",
      "  fontweight or weight: {a numeric value in range 0-1000, 'ultralight', 'light', 'normal', 'regular', 'book', 'medium', 'roman', 'semibold', 'demibold', 'demi', 'bold', 'heavy', 'extra bold', 'black'}\n",
      "  gid: str\n",
      "  horizontalalignment or ha: {'center', 'right', 'left'}\n",
      "  in_layout: bool\n",
      "  label: object\n",
      "  linespacing: float (multiple of font size)\n",
      "  multialignment or ma: {'left', 'right', 'center'}\n",
      "  path_effects: `.AbstractPathEffect`\n",
      "  picker: None or bool or callable\n",
      "  position: (float, float)\n",
      "  rasterized: bool or None\n",
      "  rotation: float or {'vertical', 'horizontal'}\n",
      "  rotation_mode: {None, 'default', 'anchor'}\n",
      "  sketch_params: (scale: float, length: float, randomness: float)\n",
      "  snap: bool or None\n",
      "  text: object\n",
      "  transform: `.Transform`\n",
      "  url: str\n",
      "  usetex: bool or None\n",
      "  verticalalignment or va: {'center', 'top', 'bottom', 'baseline', 'center_baseline'}\n",
      "  visible: bool\n",
      "  wrap: bool\n",
      "  x: float\n",
      "  y: float\n",
      "  zorder: float\n"
     ]
    },
    {
     "data": {
      "image/png": "[encoded data removed]",
      "text/plain": [
       "<Figure size 864x432 with 1 Axes>"
      ]
     },
     "metadata": {
      "needs_background": "light"
     },
     "output_type": "display_data"
    }
   ],
   "source": [
    "rcParams.update({'font.size': 12})\n",
    "fig, ax = plt.subplots(figsize=(12, 6))\n",
    "\n",
    "splot = sns.barplot(x='Attribute', y='feature_importance', data =fi)\n",
    "\n",
    "for p in splot.patches:\n",
    "    splot.annotate(format(p.get_height(), '.3f'), \n",
    "                   (p.get_x() + p.get_width() / 2., p.get_height()), \n",
    "                   ha = 'center', va = 'center', \n",
    "                   xytext = (0, 9), \n",
    "                   textcoords = 'offset points')\n",
    "\n",
    "plt.setp(ax.get_xticklabels(), rotation=45, ha='right')\n",
    "plt.setp(ax.set_xlabel(''))\n",
    "plt.setp(ax.set_ylabel('Feature importance'))"
   ]
  },
  {
   "cell_type": "code",
   "execution_count": 16,
   "metadata": {},
   "outputs": [],
   "source": [
    "# n_estimators"
   ]
  },
  {
   "cell_type": "code",
   "execution_count": 3,
   "metadata": {},
   "outputs": [],
   "source": [
    "n_estimators = list(range(50, 1500, 50))\n",
    "train_results = []\n",
    "validation_results = []\n",
    "\n",
    "for n in n_estimators:\n",
    "    model = XGBClassifier(n_estimators=n)\n",
    "    model.fit(x_train, y_train)\n",
    "    train_pred = model.predict(x_train)\n",
    "    acc = accuracy_score(y_train, train_pred)\n",
    "    train_results.append(acc)\n",
    "    val_pred = model.predict(x_val)\n",
    "    acc = accuracy_score(y_val, val_pred)\n",
    "    validation_results.append(acc)\n"
   ]
  },
  {
   "cell_type": "code",
   "execution_count": 4,
   "metadata": {
    "scrolled": false
   },
   "outputs": [
    {
     "data": {
      "image/png": "[encoded data removed]",
      "text/plain": [
       "<Figure size 864x648 with 1 Axes>"
      ]
     },
     "metadata": {
      "needs_background": "light"
     },
     "output_type": "display_data"
    }
   ],
   "source": [
    "plt.figure(figsize=(12,9))\n",
    "line1, = plt.plot(n_estimators, train_results, 'b', label='Train accuracy')\n",
    "line2, = plt.plot(n_estimators, validation_results, 'r', label='Validation accuracy')\n",
    "plt.legend(handler_map={line1: HandlerLine2D(numpoints=2)})\n",
    "plt.ylabel('Accuracy score')\n",
    "plt.xlabel('n_estimators')\n",
    "plt.show()"
   ]
  },
  {
   "cell_type": "code",
   "execution_count": 18,
   "metadata": {},
   "outputs": [],
   "source": [
    "# learning rate (shrinkage factor)"
   ]
  },
  {
   "cell_type": "code",
   "execution_count": 22,
   "metadata": {},
   "outputs": [],
   "source": [
    "learning_rate = [0.0001, 0.001, 0.01, 0.1, 0.2, 0.3, 0.4, 0.5, 0.6, 0.7, 0.8, 0.9]\n",
    "train_results = []\n",
    "validation_results = []\n",
    "\n",
    "for n in learning_rate:\n",
    "    model = XGBClassifier(learning_rate=n)\n",
    "    model.fit(x_train, y_train)\n",
    "    train_pred = model.predict(x_train)\n",
    "    acc = accuracy_score(y_train, train_pred)\n",
    "    train_results.append(acc)\n",
    "    val_pred = model.predict(x_val)\n",
    "    acc = accuracy_score(y_val, val_pred)\n",
    "    validation_results.append(acc)\n"
   ]
  },
  {
   "cell_type": "code",
   "execution_count": 23,
   "metadata": {},
   "outputs": [
    {
     "data": {
      "image/png": "[encoded data removed]",
      "text/plain": [
       "<Figure size 864x648 with 1 Axes>"
      ]
     },
     "metadata": {
      "needs_background": "light"
     },
     "output_type": "display_data"
    }
   ],
   "source": [
    "plt.figure(figsize=(12,9))\n",
    "line1, = plt.plot(learning_rate, train_results, 'b', label='Train accuracy')\n",
    "line2, = plt.plot(learning_rate, validation_results, 'r', label='Validation accuracy')\n",
    "plt.legend(handler_map={line1: HandlerLine2D(numpoints=2)})\n",
    "plt.ylabel('Accuracy score')\n",
    "plt.xlabel('learning_rate')\n",
    "plt.show()"
   ]
  },
  {
   "cell_type": "code",
   "execution_count": 29,
   "metadata": {},
   "outputs": [
    {
     "data": {
      "text/html": [
       "<div>\n",
       "<style scoped>\n",
       "    .dataframe tbody tr th:only-of-type {\n",
       "        vertical-align: middle;\n",
       "    }\n",
       "\n",
       "    .dataframe tbody tr th {\n",
       "        vertical-align: top;\n",
       "    }\n",
       "\n",
       "    .dataframe thead th {\n",
       "        text-align: right;\n",
       "    }\n",
       "</style>\n",
       "<table border=\"1\" class=\"dataframe\">\n",
       "  <thead>\n",
       "    <tr style=\"text-align: right;\">\n",
       "      <th></th>\n",
       "      <th>Accuracy_validation</th>\n",
       "      <th>learning_rate</th>\n",
       "    </tr>\n",
       "  </thead>\n",
       "  <tbody>\n",
       "    <tr>\n",
       "      <th>3</th>\n",
       "      <td>0.963183</td>\n",
       "      <td>0.1000</td>\n",
       "    </tr>\n",
       "    <tr>\n",
       "      <th>5</th>\n",
       "      <td>0.962787</td>\n",
       "      <td>0.3000</td>\n",
       "    </tr>\n",
       "    <tr>\n",
       "      <th>4</th>\n",
       "      <td>0.960412</td>\n",
       "      <td>0.2000</td>\n",
       "    </tr>\n",
       "    <tr>\n",
       "      <th>7</th>\n",
       "      <td>0.960016</td>\n",
       "      <td>0.5000</td>\n",
       "    </tr>\n",
       "    <tr>\n",
       "      <th>11</th>\n",
       "      <td>0.960016</td>\n",
       "      <td>0.9000</td>\n",
       "    </tr>\n",
       "    <tr>\n",
       "      <th>2</th>\n",
       "      <td>0.959620</td>\n",
       "      <td>0.0100</td>\n",
       "    </tr>\n",
       "    <tr>\n",
       "      <th>6</th>\n",
       "      <td>0.958828</td>\n",
       "      <td>0.4000</td>\n",
       "    </tr>\n",
       "    <tr>\n",
       "      <th>8</th>\n",
       "      <td>0.958828</td>\n",
       "      <td>0.6000</td>\n",
       "    </tr>\n",
       "    <tr>\n",
       "      <th>0</th>\n",
       "      <td>0.957245</td>\n",
       "      <td>0.0001</td>\n",
       "    </tr>\n",
       "    <tr>\n",
       "      <th>1</th>\n",
       "      <td>0.957245</td>\n",
       "      <td>0.0010</td>\n",
       "    </tr>\n",
       "    <tr>\n",
       "      <th>9</th>\n",
       "      <td>0.957245</td>\n",
       "      <td>0.7000</td>\n",
       "    </tr>\n",
       "    <tr>\n",
       "      <th>10</th>\n",
       "      <td>0.957245</td>\n",
       "      <td>0.8000</td>\n",
       "    </tr>\n",
       "  </tbody>\n",
       "</table>\n",
       "</div>"
      ],
      "text/plain": [
       "    Accuracy_validation  learning_rate\n",
       "3              0.963183         0.1000\n",
       "5              0.962787         0.3000\n",
       "4              0.960412         0.2000\n",
       "7              0.960016         0.5000\n",
       "11             0.960016         0.9000\n",
       "2              0.959620         0.0100\n",
       "6              0.958828         0.4000\n",
       "8              0.958828         0.6000\n",
       "0              0.957245         0.0001\n",
       "1              0.957245         0.0010\n",
       "9              0.957245         0.7000\n",
       "10             0.957245         0.8000"
      ]
     },
     "execution_count": 29,
     "metadata": {},
     "output_type": "execute_result"
    }
   ],
   "source": [
    "lr = pd.concat([pd.DataFrame(validation_results, columns=['Accuracy_validation']), pd.DataFrame(learning_rate, columns=['learning_rate'])], axis=1)\n",
    "lr.sort_values(by='Accuracy_validation', ascending=False)"
   ]
  },
  {
   "cell_type": "code",
   "execution_count": 30,
   "metadata": {},
   "outputs": [],
   "source": [
    "n_estimators = list(range(50, 600, 50))\n",
    "train_results = []\n",
    "validation_results = []\n",
    "\n",
    "for n in n_estimators:\n",
    "    model = XGBClassifier(n_estimators=n, learning_rate=0.1)\n",
    "    model.fit(x_train, y_train)\n",
    "    train_pred = model.predict(x_train)\n",
    "    acc = accuracy_score(y_train, train_pred)\n",
    "    train_results.append(acc)\n",
    "    val_pred = model.predict(x_val)\n",
    "    acc = accuracy_score(y_val, val_pred)\n",
    "    validation_results.append(acc)\n"
   ]
  },
  {
   "cell_type": "code",
   "execution_count": 32,
   "metadata": {},
   "outputs": [
    {
     "data": {
      "image/png": "[encoded data removed]",
      "text/plain": [
       "<Figure size 864x648 with 1 Axes>"
      ]
     },
     "metadata": {
      "needs_background": "light"
     },
     "output_type": "display_data"
    }
   ],
   "source": [
    "plt.figure(figsize=(12,9))\n",
    "line1, = plt.plot(n_estimators, train_results, 'b', label='Train accuracy')\n",
    "line2, = plt.plot(n_estimators, validation_results, 'r', label='Validation accuracy')\n",
    "plt.legend(handler_map={line1: HandlerLine2D(numpoints=2)})\n",
    "plt.ylabel('Accuracy score')\n",
    "plt.xlabel('n_estimators')\n",
    "plt.show()"
   ]
  },
  {
   "cell_type": "code",
   "execution_count": 31,
   "metadata": {},
   "outputs": [
    {
     "data": {
      "text/html": [
       "<div>\n",
       "<style scoped>\n",
       "    .dataframe tbody tr th:only-of-type {\n",
       "        vertical-align: middle;\n",
       "    }\n",
       "\n",
       "    .dataframe tbody tr th {\n",
       "        vertical-align: top;\n",
       "    }\n",
       "\n",
       "    .dataframe thead th {\n",
       "        text-align: right;\n",
       "    }\n",
       "</style>\n",
       "<table border=\"1\" class=\"dataframe\">\n",
       "  <thead>\n",
       "    <tr style=\"text-align: right;\">\n",
       "      <th></th>\n",
       "      <th>Accuracy_validation</th>\n",
       "      <th>n_estimators</th>\n",
       "    </tr>\n",
       "  </thead>\n",
       "  <tbody>\n",
       "    <tr>\n",
       "      <th>1</th>\n",
       "      <td>0.963183</td>\n",
       "      <td>100</td>\n",
       "    </tr>\n",
       "    <tr>\n",
       "      <th>0</th>\n",
       "      <td>0.961995</td>\n",
       "      <td>50</td>\n",
       "    </tr>\n",
       "    <tr>\n",
       "      <th>2</th>\n",
       "      <td>0.961599</td>\n",
       "      <td>150</td>\n",
       "    </tr>\n",
       "    <tr>\n",
       "      <th>10</th>\n",
       "      <td>0.961599</td>\n",
       "      <td>550</td>\n",
       "    </tr>\n",
       "    <tr>\n",
       "      <th>3</th>\n",
       "      <td>0.961203</td>\n",
       "      <td>200</td>\n",
       "    </tr>\n",
       "    <tr>\n",
       "      <th>4</th>\n",
       "      <td>0.960412</td>\n",
       "      <td>250</td>\n",
       "    </tr>\n",
       "    <tr>\n",
       "      <th>6</th>\n",
       "      <td>0.960016</td>\n",
       "      <td>350</td>\n",
       "    </tr>\n",
       "    <tr>\n",
       "      <th>8</th>\n",
       "      <td>0.960016</td>\n",
       "      <td>450</td>\n",
       "    </tr>\n",
       "    <tr>\n",
       "      <th>9</th>\n",
       "      <td>0.960016</td>\n",
       "      <td>500</td>\n",
       "    </tr>\n",
       "    <tr>\n",
       "      <th>5</th>\n",
       "      <td>0.959620</td>\n",
       "      <td>300</td>\n",
       "    </tr>\n",
       "    <tr>\n",
       "      <th>7</th>\n",
       "      <td>0.959620</td>\n",
       "      <td>400</td>\n",
       "    </tr>\n",
       "  </tbody>\n",
       "</table>\n",
       "</div>"
      ],
      "text/plain": [
       "    Accuracy_validation  n_estimators\n",
       "1              0.963183           100\n",
       "0              0.961995            50\n",
       "2              0.961599           150\n",
       "10             0.961599           550\n",
       "3              0.961203           200\n",
       "4              0.960412           250\n",
       "6              0.960016           350\n",
       "8              0.960016           450\n",
       "9              0.960016           500\n",
       "5              0.959620           300\n",
       "7              0.959620           400"
      ]
     },
     "execution_count": 31,
     "metadata": {},
     "output_type": "execute_result"
    }
   ],
   "source": [
    "lr2 = pd.concat([pd.DataFrame(validation_results, columns=['Accuracy_validation']), pd.DataFrame(n_estimators, columns=['n_estimators'])], axis=1)\n",
    "lr2.sort_values(by='Accuracy_validation', ascending=False)"
   ]
  },
  {
   "cell_type": "code",
   "execution_count": null,
   "metadata": {},
   "outputs": [],
   "source": [
    "# ako sa zlepsilo na testovacom sete?"
   ]
  },
  {
   "cell_type": "code",
   "execution_count": 33,
   "metadata": {},
   "outputs": [
    {
     "name": "stdout",
     "output_type": "stream",
     "text": [
      "Train_accuracy: 0.9675093315235833 Train_precision: 0.9714427613608145\n",
      "Val_accuracy: 0.9631828978622328 Val_precision: 0.9571589627959414\n",
      "Test_accuracy: 0.9552652414885194 Test_precision: 0.9533799533799534\n"
     ]
    }
   ],
   "source": [
    "xgb_clf = XGBClassifier(learning_rate=0.1)\n",
    "xgb_clf.fit(x_train, y_train)\n",
    "print('Train_accuracy:', accuracy_score(y_train, xgb_clf.predict(x_train)), 'Train_precision:', metrics.precision_score(y_train, xgb_clf.predict(x_train)))\n",
    "print('Val_accuracy:', accuracy_score(y_val, xgb_clf.predict(x_val)), 'Val_precision:', metrics.precision_score(y_val, xgb_clf.predict(x_val)))\n",
    "print('Test_accuracy:', accuracy_score(y_test, xgb_clf.predict(x_test)), 'Test_precision:', metrics.precision_score(y_test, xgb_clf.predict(x_test)))\n"
   ]
  },
  {
   "cell_type": "code",
   "execution_count": null,
   "metadata": {},
   "outputs": [],
   "source": []
  },
  {
   "cell_type": "code",
   "execution_count": 37,
   "metadata": {},
   "outputs": [],
   "source": [
    "model = XGBClassifier()\n",
    "n_estimators = [100, 200, 300, 400, 500]\n",
    "learning_rate = [0.0001, 0.001, 0.01, 0.1]\n",
    "param_grid = dict(learning_rate=learning_rate, n_estimators=n_estimators)\n",
    "kfold = StratifiedKFold(n_splits=10, shuffle=True, random_state=7)\n",
    "grid_search = GridSearchCV(model, param_grid, scoring=\"neg_log_loss\", n_jobs=-1, cv=kfold)\n",
    "grid_result = grid_search.fit(x_train, y_train)"
   ]
  },
  {
   "cell_type": "code",
   "execution_count": 43,
   "metadata": {},
   "outputs": [
    {
     "name": "stdout",
     "output_type": "stream",
     "text": [
      "Best:  -0.11251094050649187  using  {'learning_rate': 0.1, 'n_estimators': 200}\n",
      "-0.6848611602233192 ( 7.464628460864048e-05 ) :  with  {'learning_rate': 0.0001, 'n_estimators': 100}\n",
      "-0.6767370796597832 ( 0.0001475497743103988 ) :  with  {'learning_rate': 0.0001, 'n_estimators': 200}\n",
      "-0.668770992415689 ( 0.0002205668453247317 ) :  with  {'learning_rate': 0.0001, 'n_estimators': 300}\n",
      "-0.6609610125093417 ( 0.00029428000322119697 ) :  with  {'learning_rate': 0.0001, 'n_estimators': 400}\n",
      "-0.6533017874473057 ( 0.0003688520074308881 ) :  with  {'learning_rate': 0.0001, 'n_estimators': 500}\n",
      "-0.6170596600293969 ( 0.0007158924167151209 ) :  with  {'learning_rate': 0.001, 'n_estimators': 100}\n",
      "-0.5537160131368901 ( 0.001355393487347161 ) :  with  {'learning_rate': 0.001, 'n_estimators': 200}\n",
      "-0.5003606100207525 ( 0.00188067238662667 ) :  with  {'learning_rate': 0.001, 'n_estimators': 300}\n",
      "-0.45483473039026634 ( 0.0023464775853909363 ) :  with  {'learning_rate': 0.001, 'n_estimators': 400}\n",
      "-0.41560754662125055 ( 0.0028015515068593217 ) :  with  {'learning_rate': 0.001, 'n_estimators': 500}\n",
      "-0.2839809057250476 ( 0.004651796928721705 ) :  with  {'learning_rate': 0.01, 'n_estimators': 100}\n",
      "-0.1765435315536503 ( 0.0068114007192177535 ) :  with  {'learning_rate': 0.01, 'n_estimators': 200}\n",
      "-0.14129987146059192 ( 0.007933941355890175 ) :  with  {'learning_rate': 0.01, 'n_estimators': 300}\n",
      "-0.12860582437487036 ( 0.009135177142364736 ) :  with  {'learning_rate': 0.01, 'n_estimators': 400}\n",
      "-0.12343328840614776 ( 0.009619791097882373 ) :  with  {'learning_rate': 0.01, 'n_estimators': 500}\n",
      "-0.1142860196638766 ( 0.010652910477956846 ) :  with  {'learning_rate': 0.1, 'n_estimators': 100}\n",
      "-0.11251094050649187 ( 0.012370002218963245 ) :  with  {'learning_rate': 0.1, 'n_estimators': 200}\n",
      "-0.11441024798941013 ( 0.014119832880164237 ) :  with  {'learning_rate': 0.1, 'n_estimators': 300}\n",
      "-0.1170380588515529 ( 0.015297553992008626 ) :  with  {'learning_rate': 0.1, 'n_estimators': 400}\n",
      "-0.1198981369990667 ( 0.0162745320732487 ) :  with  {'learning_rate': 0.1, 'n_estimators': 500}\n"
     ]
    },
    {
     "data": {
      "text/plain": [
       "Text(0, 0.5, 'Log Loss')"
      ]
     },
     "execution_count": 43,
     "metadata": {},
     "output_type": "execute_result"
    },
    {
     "data": {
      "image/png": "[encoded data removed]",
      "text/plain": [
       "<Figure size 432x288 with 1 Axes>"
      ]
     },
     "metadata": {
      "needs_background": "light"
     },
     "output_type": "display_data"
    }
   ],
   "source": [
    "print(\"Best: \", grid_result.best_score_,\" using \", grid_result.best_params_)\n",
    "means = grid_result.cv_results_['mean_test_score']\n",
    "stds = grid_result.cv_results_['std_test_score']\n",
    "params = grid_result.cv_results_['params']\n",
    "for mean, stdev, param in zip(means, stds, params):\n",
    "    print( mean, \"(\", stdev,\") :  with \", param)\n",
    "\n",
    "    \n",
    "scores = np.array(means).reshape(len(learning_rate), len(n_estimators))\n",
    "for i, value in enumerate(learning_rate):\n",
    "    plt.plot(n_estimators, scores[i], label='learning_rate: ' + str(value))\n",
    "plt.legend()\n",
    "plt.xlabel('n_estimators')\n",
    "plt.ylabel('Log Loss')"
   ]
  },
  {
   "cell_type": "code",
   "execution_count": 44,
   "metadata": {},
   "outputs": [
    {
     "name": "stdout",
     "output_type": "stream",
     "text": [
      "Train_accuracy: 0.9779436715303699 Train_precision: 0.9778156996587031\n",
      "Val_accuracy: 0.9612034837688044 Val_precision: 0.9438325991189427\n",
      "Test_accuracy: 0.9604117181314331 Test_precision: 0.95096921322691\n"
     ]
    }
   ],
   "source": [
    "xgb_clf = XGBClassifier(learning_rate=0.1, n_estimators=200)\n",
    "xgb_clf.fit(x_train, y_train)\n",
    "print('Train_accuracy:', accuracy_score(y_train, xgb_clf.predict(x_train)), 'Train_precision:', metrics.precision_score(y_train, xgb_clf.predict(x_train)))\n",
    "print('Val_accuracy:', accuracy_score(y_val, xgb_clf.predict(x_val)), 'Val_precision:', metrics.precision_score(y_val, xgb_clf.predict(x_val)))\n",
    "print('Test_accuracy:', accuracy_score(y_test, xgb_clf.predict(x_test)), 'Test_precision:', metrics.precision_score(y_test, xgb_clf.predict(x_test)))\n"
   ]
  }
 ],
 "metadata": {
  "kernelspec": {
   "display_name": "Python 3",
   "language": "python",
   "name": "python3"
  },
  "language_info": {
   "codemirror_mode": {
    "name": "ipython",
    "version": 3
   },
   "file_extension": ".py",
   "mimetype": "text/x-python",
   "name": "python",
   "nbconvert_exporter": "python",
   "pygments_lexer": "ipython3",
   "version": "3.7.8"
  }
 },
 "nbformat": 4,
 "nbformat_minor": 4
}
